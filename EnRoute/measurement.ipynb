{
 "cells": [
  {
   "cell_type": "code",
   "execution_count": 1,
   "metadata": {
    "collapsed": true,
    "deletable": true,
    "editable": true
   },
   "outputs": [],
   "source": [
    "import os\n",
    "os.chdir(r\"D:\\Academia\\UF\\Research\\SUMO Simulations\\TAPASCologne-0.24.0\")"
   ]
  },
  {
   "cell_type": "code",
   "execution_count": 2,
   "metadata": {
    "collapsed": true,
    "deletable": true,
    "editable": true
   },
   "outputs": [],
   "source": [
    "import pandas as pd\n",
    "import numpy as np\n",
    "import matplotlib.pyplot as plt\n",
    "import scipy.stats as st"
   ]
  },
  {
   "cell_type": "markdown",
   "metadata": {
    "collapsed": true,
    "deletable": true,
    "editable": true
   },
   "source": [
    "**First we analyze the trip info output, all csv files are stored in h5 stores for compression and fast retrieval**"
   ]
  },
  {
   "cell_type": "code",
   "execution_count": 3,
   "metadata": {
    "collapsed": false,
    "deletable": true,
    "editable": true
   },
   "outputs": [],
   "source": [
    "store = pd.HDFStore(\"cologne_measurement.h5\")"
   ]
  },
  {
   "cell_type": "code",
   "execution_count": 68,
   "metadata": {
    "collapsed": true
   },
   "outputs": [],
   "source": [
    "trip_file_name = \"cologne_tripinfos.csv\"\n",
    "queue_file_name = \"cologne_queue.out.csv\"\n",
    "egdeinfo_file_name = \"dump_60_60.csv\""
   ]
  },
  {
   "cell_type": "code",
   "execution_count": 4,
   "metadata": {
    "collapsed": false,
    "deletable": true,
    "editable": true
   },
   "outputs": [],
   "source": [
    "if \"trip_df\" in store:\n",
    "    tdf = store[\"trip_df\"]\n",
    "else:\n",
    "    tdf = pd.read_csv(trip_file_name,sep=';')\n",
    "    store[\"trip_df\"] = tdf"
   ]
  },
  {
   "cell_type": "code",
   "execution_count": 5,
   "metadata": {
    "collapsed": false,
    "deletable": true,
    "editable": true
   },
   "outputs": [
    {
     "data": {
      "text/html": [
       "<div>\n",
       "<table border=\"1\" class=\"dataframe\">\n",
       "  <thead>\n",
       "    <tr style=\"text-align: right;\">\n",
       "      <th></th>\n",
       "      <th>tripinfo_arrival</th>\n",
       "      <th>tripinfo_arrivalLane</th>\n",
       "      <th>tripinfo_arrivalPos</th>\n",
       "      <th>tripinfo_arrivalSpeed</th>\n",
       "      <th>tripinfo_depart</th>\n",
       "      <th>tripinfo_departDelay</th>\n",
       "      <th>tripinfo_departLane</th>\n",
       "      <th>tripinfo_departPos</th>\n",
       "      <th>tripinfo_departSpeed</th>\n",
       "      <th>tripinfo_devices</th>\n",
       "      <th>tripinfo_duration</th>\n",
       "      <th>tripinfo_id</th>\n",
       "      <th>tripinfo_rerouteNo</th>\n",
       "      <th>tripinfo_routeLength</th>\n",
       "      <th>tripinfo_timeLoss</th>\n",
       "      <th>tripinfo_vType</th>\n",
       "      <th>tripinfo_vaporized</th>\n",
       "      <th>tripinfo_waitSteps</th>\n",
       "    </tr>\n",
       "  </thead>\n",
       "  <tbody>\n",
       "    <tr>\n",
       "      <th>0</th>\n",
       "      <td>21727.0</td>\n",
       "      <td>80344009#4_0</td>\n",
       "      <td>123.72</td>\n",
       "      <td>7.96</td>\n",
       "      <td>21606.0</td>\n",
       "      <td>0.0</td>\n",
       "      <td>313588009#0_0</td>\n",
       "      <td>4.6</td>\n",
       "      <td>0.0</td>\n",
       "      <td>tripinfo_46759_46759_363_0</td>\n",
       "      <td>121.0</td>\n",
       "      <td>46759_46759_363_0</td>\n",
       "      <td>0</td>\n",
       "      <td>1282.19</td>\n",
       "      <td>12.79</td>\n",
       "      <td>pkw</td>\n",
       "      <td>NaN</td>\n",
       "      <td>0</td>\n",
       "    </tr>\n",
       "    <tr>\n",
       "      <th>1</th>\n",
       "      <td>21749.0</td>\n",
       "      <td>27462372#0_0</td>\n",
       "      <td>154.90</td>\n",
       "      <td>13.38</td>\n",
       "      <td>21617.0</td>\n",
       "      <td>0.0</td>\n",
       "      <td>-13538011#0_0</td>\n",
       "      <td>4.6</td>\n",
       "      <td>0.0</td>\n",
       "      <td>tripinfo_50204_50204_368_0</td>\n",
       "      <td>132.0</td>\n",
       "      <td>50204_50204_368_0</td>\n",
       "      <td>0</td>\n",
       "      <td>1096.50</td>\n",
       "      <td>56.46</td>\n",
       "      <td>pkw</td>\n",
       "      <td>NaN</td>\n",
       "      <td>40</td>\n",
       "    </tr>\n",
       "    <tr>\n",
       "      <th>2</th>\n",
       "      <td>21765.0</td>\n",
       "      <td>32041422#1_0</td>\n",
       "      <td>113.69</td>\n",
       "      <td>7.45</td>\n",
       "      <td>21664.0</td>\n",
       "      <td>0.0</td>\n",
       "      <td>4145957#2_0</td>\n",
       "      <td>4.6</td>\n",
       "      <td>0.0</td>\n",
       "      <td>tripinfo_35871_35871_355_0</td>\n",
       "      <td>101.0</td>\n",
       "      <td>35871_35871_355_0</td>\n",
       "      <td>0</td>\n",
       "      <td>812.65</td>\n",
       "      <td>12.48</td>\n",
       "      <td>pkw</td>\n",
       "      <td>NaN</td>\n",
       "      <td>0</td>\n",
       "    </tr>\n",
       "    <tr>\n",
       "      <th>3</th>\n",
       "      <td>21766.0</td>\n",
       "      <td>31115126#0_0</td>\n",
       "      <td>240.30</td>\n",
       "      <td>13.18</td>\n",
       "      <td>21621.0</td>\n",
       "      <td>0.0</td>\n",
       "      <td>29158164_0</td>\n",
       "      <td>4.6</td>\n",
       "      <td>0.0</td>\n",
       "      <td>tripinfo_52505_52505_370_0</td>\n",
       "      <td>145.0</td>\n",
       "      <td>52505_52505_370_0</td>\n",
       "      <td>0</td>\n",
       "      <td>1656.82</td>\n",
       "      <td>14.72</td>\n",
       "      <td>pkw</td>\n",
       "      <td>NaN</td>\n",
       "      <td>0</td>\n",
       "    </tr>\n",
       "    <tr>\n",
       "      <th>4</th>\n",
       "      <td>21770.0</td>\n",
       "      <td>178424459#6_0</td>\n",
       "      <td>130.04</td>\n",
       "      <td>14.40</td>\n",
       "      <td>21711.0</td>\n",
       "      <td>0.0</td>\n",
       "      <td>28235697#5_0</td>\n",
       "      <td>4.6</td>\n",
       "      <td>0.0</td>\n",
       "      <td>tripinfo_36879_36879_357_0</td>\n",
       "      <td>59.0</td>\n",
       "      <td>36879_36879_357_0</td>\n",
       "      <td>0</td>\n",
       "      <td>737.44</td>\n",
       "      <td>9.62</td>\n",
       "      <td>pkw</td>\n",
       "      <td>NaN</td>\n",
       "      <td>0</td>\n",
       "    </tr>\n",
       "  </tbody>\n",
       "</table>\n",
       "</div>"
      ],
      "text/plain": [
       "   tripinfo_arrival tripinfo_arrivalLane  tripinfo_arrivalPos  \\\n",
       "0           21727.0         80344009#4_0               123.72   \n",
       "1           21749.0         27462372#0_0               154.90   \n",
       "2           21765.0         32041422#1_0               113.69   \n",
       "3           21766.0         31115126#0_0               240.30   \n",
       "4           21770.0        178424459#6_0               130.04   \n",
       "\n",
       "   tripinfo_arrivalSpeed  tripinfo_depart  tripinfo_departDelay  \\\n",
       "0                   7.96          21606.0                   0.0   \n",
       "1                  13.38          21617.0                   0.0   \n",
       "2                   7.45          21664.0                   0.0   \n",
       "3                  13.18          21621.0                   0.0   \n",
       "4                  14.40          21711.0                   0.0   \n",
       "\n",
       "  tripinfo_departLane  tripinfo_departPos  tripinfo_departSpeed  \\\n",
       "0       313588009#0_0                 4.6                   0.0   \n",
       "1       -13538011#0_0                 4.6                   0.0   \n",
       "2         4145957#2_0                 4.6                   0.0   \n",
       "3          29158164_0                 4.6                   0.0   \n",
       "4        28235697#5_0                 4.6                   0.0   \n",
       "\n",
       "             tripinfo_devices  tripinfo_duration        tripinfo_id  \\\n",
       "0  tripinfo_46759_46759_363_0              121.0  46759_46759_363_0   \n",
       "1  tripinfo_50204_50204_368_0              132.0  50204_50204_368_0   \n",
       "2  tripinfo_35871_35871_355_0              101.0  35871_35871_355_0   \n",
       "3  tripinfo_52505_52505_370_0              145.0  52505_52505_370_0   \n",
       "4  tripinfo_36879_36879_357_0               59.0  36879_36879_357_0   \n",
       "\n",
       "   tripinfo_rerouteNo  tripinfo_routeLength  tripinfo_timeLoss tripinfo_vType  \\\n",
       "0                   0               1282.19              12.79            pkw   \n",
       "1                   0               1096.50              56.46            pkw   \n",
       "2                   0                812.65              12.48            pkw   \n",
       "3                   0               1656.82              14.72            pkw   \n",
       "4                   0                737.44               9.62            pkw   \n",
       "\n",
       "   tripinfo_vaporized  tripinfo_waitSteps  \n",
       "0                 NaN                   0  \n",
       "1                 NaN                  40  \n",
       "2                 NaN                   0  \n",
       "3                 NaN                   0  \n",
       "4                 NaN                   0  "
      ]
     },
     "execution_count": 5,
     "metadata": {},
     "output_type": "execute_result"
    }
   ],
   "source": [
    "tdf[:5]"
   ]
  },
  {
   "cell_type": "code",
   "execution_count": 6,
   "metadata": {
    "collapsed": false,
    "deletable": true,
    "editable": true
   },
   "outputs": [
    {
     "data": {
      "text/plain": [
       "75145"
      ]
     },
     "execution_count": 6,
     "metadata": {},
     "output_type": "execute_result"
    }
   ],
   "source": [
    "len(tdf)"
   ]
  },
  {
   "cell_type": "markdown",
   "metadata": {
    "deletable": true,
    "editable": true
   },
   "source": [
    "Let's get trips completed in each half hour"
   ]
  },
  {
   "cell_type": "code",
   "execution_count": 16,
   "metadata": {
    "collapsed": false,
    "deletable": true,
    "editable": true
   },
   "outputs": [],
   "source": [
    "ax1 = tdf.ix[tdf[\"tripinfo_arrival\"] <= 21600+7205,\"tripinfo_arrival\"].hist(bins=4,alpha=0.8,edgecolor='k')\n",
    "ax1.set_title(\"Trips Completed in each 30 Minutes\")\n",
    "ax1.set_xlabel(\"Time (Seconds)\",fontsize=16)\n",
    "ax1.set_ylabel(\"No. of Completed Trips\",fontsize=16)\n",
    "ax1.grid()\n",
    "ax1.yaxis.grid(True)"
   ]
  },
  {
   "cell_type": "code",
   "execution_count": 17,
   "metadata": {
    "collapsed": true,
    "deletable": true,
    "editable": true
   },
   "outputs": [],
   "source": [
    "plt.savefig(\"hist_trip_completion.pdf\",bbox_inches=\"tight\")"
   ]
  },
  {
   "cell_type": "code",
   "execution_count": 18,
   "metadata": {
    "collapsed": false,
    "deletable": true,
    "editable": true
   },
   "outputs": [
    {
     "data": {
      "image/png": "[encoded data removed]",
      "text/plain": [
       "<matplotlib.figure.Figure at 0x1addabf3208>"
      ]
     },
     "metadata": {},
     "output_type": "display_data"
    }
   ],
   "source": [
    "plt.show()"
   ]
  },
  {
   "cell_type": "markdown",
   "metadata": {
    "deletable": true,
    "editable": true
   },
   "source": [
    "Now let's get distribution of trip duration and add a lognormal to it!"
   ]
  },
  {
   "cell_type": "code",
   "execution_count": 19,
   "metadata": {
    "collapsed": false,
    "deletable": true,
    "editable": true
   },
   "outputs": [],
   "source": [
    "s,loc,scale = st.lognorm.fit(tdf[\"tripinfo_duration\"],loc=0)"
   ]
  },
  {
   "cell_type": "code",
   "execution_count": 20,
   "metadata": {
    "collapsed": false
   },
   "outputs": [
    {
     "data": {
      "text/plain": [
       "(0.61237696932853136, -93.058789256230256, 900.26435605493839)"
      ]
     },
     "execution_count": 20,
     "metadata": {},
     "output_type": "execute_result"
    }
   ],
   "source": [
    "s,loc,scale"
   ]
  },
  {
   "cell_type": "code",
   "execution_count": 9,
   "metadata": {
    "collapsed": false,
    "deletable": true,
    "editable": true
   },
   "outputs": [],
   "source": [
    "#norm1,norm2 = st.norm.fit(tdf[\"tripinfo_duration\"])"
   ]
  },
  {
   "cell_type": "code",
   "execution_count": 10,
   "metadata": {
    "collapsed": false,
    "deletable": true,
    "editable": true
   },
   "outputs": [],
   "source": [
    "#gamma1, gamma2, gamma3 = st.gamma.fit(tdf[\"tripinfo_duration\"])"
   ]
  },
  {
   "cell_type": "code",
   "execution_count": 11,
   "metadata": {
    "collapsed": false,
    "deletable": true,
    "editable": true
   },
   "outputs": [],
   "source": [
    "#beta1, beta2,beta3,beta4 = st.beta.fit(tdf[\"tripinfo_duration\"])"
   ]
  },
  {
   "cell_type": "code",
   "execution_count": 12,
   "metadata": {
    "collapsed": false,
    "deletable": true,
    "editable": true
   },
   "outputs": [],
   "source": [
    "#expon1, expon2  = st.expon.fit(tdf[\"tripinfo_duration\"])"
   ]
  },
  {
   "cell_type": "code",
   "execution_count": 35,
   "metadata": {
    "collapsed": false,
    "deletable": true,
    "editable": true
   },
   "outputs": [
    {
     "data": {
      "text/plain": [
       "<matplotlib.text.Text at 0x1add9d9b0f0>"
      ]
     },
     "execution_count": 35,
     "metadata": {},
     "output_type": "execute_result"
    }
   ],
   "source": [
    "fig = plt.figure()\n",
    "ax2 = fig.add_subplot(111)\n",
    "x = np.linspace(0,8000,8000)\n",
    "ax2.hist(tdf[\"tripinfo_duration\"],bins=20,normed=True,alpha=0.8)\n",
    "ln = (st.lognorm.pdf(x,s,loc,scale))\n",
    "#nr = st.norm.pdf(x,norm1,norm2)\n",
    "#gm = st.gamma.pdf(x,gamma1,gamma2,gamma3)\n",
    "#bt = st.beta.pdf(x,beta1,beta2,beta3,beta4)\n",
    "#print [round(x,3) for x in ln[:10]]\n",
    "ax2.plot(ln,color=\"r\")\n",
    "#ax.plot(nr,color=\"y\")\n",
    "#ax.plot(gm,color=\"g\")\n",
    "#ax.plot(bt,color=\"m\")\n",
    "ax2.set_xlabel(\"Trip Duration (Seconds)\",fontsize=16)\n",
    "ax2.set_ylabel(\"Probability\",fontsize=16)\n",
    "ax2.set_title(\"Fit of Lognormal Distribution\")"
   ]
  },
  {
   "cell_type": "code",
   "execution_count": 36,
   "metadata": {
    "collapsed": true,
    "deletable": true,
    "editable": true
   },
   "outputs": [],
   "source": [
    "plt.savefig(\"lognorm_fit_cologne_2h.pdf\",bbox_inches = \"tight\")"
   ]
  },
  {
   "cell_type": "code",
   "execution_count": 37,
   "metadata": {
    "collapsed": false,
    "deletable": true,
    "editable": true,
    "scrolled": true
   },
   "outputs": [
    {
     "data": {
      "image/png": "[encoded data removed]",
      "text/plain": [
       "<matplotlib.figure.Figure at 0x1addabd6ba8>"
      ]
     },
     "metadata": {},
     "output_type": "display_data"
    }
   ],
   "source": [
    "plt.show()"
   ]
  },
  {
   "cell_type": "markdown",
   "metadata": {
    "deletable": true,
    "editable": true
   },
   "source": [
    "**Now let's check on queue outputs**"
   ]
  },
  {
   "cell_type": "code",
   "execution_count": 43,
   "metadata": {
    "collapsed": false,
    "deletable": true,
    "editable": true
   },
   "outputs": [],
   "source": [
    "if \"queue_df\" in store:\n",
    "    qdf = store[\"queue_df\"]\n",
    "else:\n",
    "    qdf = pd.read_csv(queue_file_name,sep=';')\n",
    "    qdf = qdf.dropna()\n",
    "    store[\"queue_df\"] = qdf"
   ]
  },
  {
   "cell_type": "code",
   "execution_count": 44,
   "metadata": {
    "collapsed": false,
    "deletable": true,
    "editable": true
   },
   "outputs": [
    {
     "data": {
      "text/html": [
       "<div>\n",
       "<table border=\"1\" class=\"dataframe\">\n",
       "  <thead>\n",
       "    <tr style=\"text-align: right;\">\n",
       "      <th></th>\n",
       "      <th>lane_queueing_length</th>\n",
       "      <th>lane_queueing_length_experimental</th>\n",
       "      <th>lane_queueing_time</th>\n",
       "    </tr>\n",
       "  </thead>\n",
       "  <tbody>\n",
       "    <tr>\n",
       "      <th>count</th>\n",
       "      <td>6.067544e+06</td>\n",
       "      <td>6.067544e+06</td>\n",
       "      <td>6.067544e+06</td>\n",
       "    </tr>\n",
       "    <tr>\n",
       "      <th>mean</th>\n",
       "      <td>2.084294e+01</td>\n",
       "      <td>2.204877e+01</td>\n",
       "      <td>2.424936e+01</td>\n",
       "    </tr>\n",
       "    <tr>\n",
       "      <th>std</th>\n",
       "      <td>4.308923e+01</td>\n",
       "      <td>4.031691e+01</td>\n",
       "      <td>3.812075e+01</td>\n",
       "    </tr>\n",
       "    <tr>\n",
       "      <th>min</th>\n",
       "      <td>0.000000e+00</td>\n",
       "      <td>0.000000e+00</td>\n",
       "      <td>0.000000e+00</td>\n",
       "    </tr>\n",
       "    <tr>\n",
       "      <th>25%</th>\n",
       "      <td>5.500000e+00</td>\n",
       "      <td>5.500000e+00</td>\n",
       "      <td>6.000000e+00</td>\n",
       "    </tr>\n",
       "    <tr>\n",
       "      <th>50%</th>\n",
       "      <td>5.510000e+00</td>\n",
       "      <td>1.200000e+01</td>\n",
       "      <td>1.500000e+01</td>\n",
       "    </tr>\n",
       "    <tr>\n",
       "      <th>75%</th>\n",
       "      <td>1.850000e+01</td>\n",
       "      <td>2.078000e+01</td>\n",
       "      <td>2.900000e+01</td>\n",
       "    </tr>\n",
       "    <tr>\n",
       "      <th>max</th>\n",
       "      <td>1.028320e+03</td>\n",
       "      <td>7.914300e+02</td>\n",
       "      <td>7.820000e+02</td>\n",
       "    </tr>\n",
       "  </tbody>\n",
       "</table>\n",
       "</div>"
      ],
      "text/plain": [
       "       lane_queueing_length  lane_queueing_length_experimental  \\\n",
       "count          6.067544e+06                       6.067544e+06   \n",
       "mean           2.084294e+01                       2.204877e+01   \n",
       "std            4.308923e+01                       4.031691e+01   \n",
       "min            0.000000e+00                       0.000000e+00   \n",
       "25%            5.500000e+00                       5.500000e+00   \n",
       "50%            5.510000e+00                       1.200000e+01   \n",
       "75%            1.850000e+01                       2.078000e+01   \n",
       "max            1.028320e+03                       7.914300e+02   \n",
       "\n",
       "       lane_queueing_time  \n",
       "count        6.067544e+06  \n",
       "mean         2.424936e+01  \n",
       "std          3.812075e+01  \n",
       "min          0.000000e+00  \n",
       "25%          6.000000e+00  \n",
       "50%          1.500000e+01  \n",
       "75%          2.900000e+01  \n",
       "max          7.820000e+02  "
      ]
     },
     "execution_count": 44,
     "metadata": {},
     "output_type": "execute_result"
    }
   ],
   "source": [
    "qdf[qdf.columns[2:]].describe()"
   ]
  },
  {
   "cell_type": "code",
   "execution_count": 45,
   "metadata": {
    "collapsed": false,
    "deletable": true,
    "editable": true
   },
   "outputs": [
    {
     "data": {
      "text/html": [
       "<div>\n",
       "<table border=\"1\" class=\"dataframe\">\n",
       "  <thead>\n",
       "    <tr style=\"text-align: right;\">\n",
       "      <th></th>\n",
       "      <th>data_timestep</th>\n",
       "      <th>lane_id</th>\n",
       "      <th>lane_queueing_length</th>\n",
       "      <th>lane_queueing_length_experimental</th>\n",
       "      <th>lane_queueing_time</th>\n",
       "    </tr>\n",
       "  </thead>\n",
       "  <tbody>\n",
       "    <tr>\n",
       "      <th>17</th>\n",
       "      <td>21617.0</td>\n",
       "      <td>6187383#2_1</td>\n",
       "      <td>5.51</td>\n",
       "      <td>5.51</td>\n",
       "      <td>1.0</td>\n",
       "    </tr>\n",
       "    <tr>\n",
       "      <th>18</th>\n",
       "      <td>21618.0</td>\n",
       "      <td>132545224#4_1</td>\n",
       "      <td>5.51</td>\n",
       "      <td>5.51</td>\n",
       "      <td>1.0</td>\n",
       "    </tr>\n",
       "    <tr>\n",
       "      <th>19</th>\n",
       "      <td>21618.0</td>\n",
       "      <td>6187383#2_1</td>\n",
       "      <td>5.50</td>\n",
       "      <td>5.50</td>\n",
       "      <td>2.0</td>\n",
       "    </tr>\n",
       "  </tbody>\n",
       "</table>\n",
       "</div>"
      ],
      "text/plain": [
       "    data_timestep        lane_id  lane_queueing_length  \\\n",
       "17        21617.0    6187383#2_1                  5.51   \n",
       "18        21618.0  132545224#4_1                  5.51   \n",
       "19        21618.0    6187383#2_1                  5.50   \n",
       "\n",
       "    lane_queueing_length_experimental  lane_queueing_time  \n",
       "17                               5.51                 1.0  \n",
       "18                               5.51                 1.0  \n",
       "19                               5.50                 2.0  "
      ]
     },
     "execution_count": 45,
     "metadata": {},
     "output_type": "execute_result"
    }
   ],
   "source": [
    "qdf[:3]"
   ]
  },
  {
   "cell_type": "code",
   "execution_count": 46,
   "metadata": {
    "collapsed": false,
    "deletable": true,
    "editable": true
   },
   "outputs": [],
   "source": [
    "qdf = qdf[~ qdf[\"lane_id\"].str.contains(\":\")]"
   ]
  },
  {
   "cell_type": "code",
   "execution_count": 47,
   "metadata": {
    "collapsed": false,
    "deletable": true,
    "editable": true
   },
   "outputs": [],
   "source": [
    "qdf = qdf[qdf[\"data_timestep\"] < 21600+7205]"
   ]
  },
  {
   "cell_type": "code",
   "execution_count": 48,
   "metadata": {
    "collapsed": false,
    "deletable": true,
    "editable": true
   },
   "outputs": [],
   "source": [
    "lane_mean_qdf = qdf[qdf.columns[1:]].groupby(\"lane_id\").mean()"
   ]
  },
  {
   "cell_type": "code",
   "execution_count": 49,
   "metadata": {
    "collapsed": false,
    "deletable": true,
    "editable": true
   },
   "outputs": [
    {
     "data": {
      "text/html": [
       "<div>\n",
       "<table border=\"1\" class=\"dataframe\">\n",
       "  <thead>\n",
       "    <tr style=\"text-align: right;\">\n",
       "      <th></th>\n",
       "      <th>lane_queueing_length</th>\n",
       "      <th>lane_queueing_length_experimental</th>\n",
       "      <th>lane_queueing_time</th>\n",
       "    </tr>\n",
       "    <tr>\n",
       "      <th>lane_id</th>\n",
       "      <th></th>\n",
       "      <th></th>\n",
       "      <th></th>\n",
       "    </tr>\n",
       "  </thead>\n",
       "  <tbody>\n",
       "    <tr>\n",
       "      <th>-10070371#11_0</th>\n",
       "      <td>2.300000</td>\n",
       "      <td>4.61500</td>\n",
       "      <td>0.500000</td>\n",
       "    </tr>\n",
       "    <tr>\n",
       "      <th>-10070371#2_0</th>\n",
       "      <td>4.646321</td>\n",
       "      <td>5.84783</td>\n",
       "      <td>7.301887</td>\n",
       "    </tr>\n",
       "    <tr>\n",
       "      <th>-10070371#4_0</th>\n",
       "      <td>0.000000</td>\n",
       "      <td>4.74500</td>\n",
       "      <td>0.000000</td>\n",
       "    </tr>\n",
       "  </tbody>\n",
       "</table>\n",
       "</div>"
      ],
      "text/plain": [
       "                lane_queueing_length  lane_queueing_length_experimental  \\\n",
       "lane_id                                                                   \n",
       "-10070371#11_0              2.300000                            4.61500   \n",
       "-10070371#2_0               4.646321                            5.84783   \n",
       "-10070371#4_0               0.000000                            4.74500   \n",
       "\n",
       "                lane_queueing_time  \n",
       "lane_id                             \n",
       "-10070371#11_0            0.500000  \n",
       "-10070371#2_0             7.301887  \n",
       "-10070371#4_0             0.000000  "
      ]
     },
     "execution_count": 49,
     "metadata": {},
     "output_type": "execute_result"
    }
   ],
   "source": [
    "lane_mean_qdf[:3]"
   ]
  },
  {
   "cell_type": "code",
   "execution_count": 23,
   "metadata": {
    "collapsed": true,
    "deletable": true,
    "editable": true
   },
   "outputs": [],
   "source": [
    "#import seaborn as sns"
   ]
  },
  {
   "cell_type": "code",
   "execution_count": 24,
   "metadata": {
    "collapsed": false,
    "deletable": true,
    "editable": true
   },
   "outputs": [],
   "source": [
    "#jp = sns.jointplot(x=\"data_timestep\", y=\"lane_queueing_length\", data=qdf, kind=\"kde\", color=\"m\")"
   ]
  },
  {
   "cell_type": "code",
   "execution_count": 50,
   "metadata": {
    "collapsed": true,
    "deletable": true,
    "editable": true
   },
   "outputs": [],
   "source": [
    "def cdf_plot(ser,ax=None,figsize=None, label=None):\n",
    "    ser = ser.sort_values()\n",
    "    cum_dist = np.linspace(0.,1.,len(ser))\n",
    "    ser_cdf = pd.Series(cum_dist, index=ser)\n",
    "    return ser_cdf.plot(drawstyle='steps',figsize=figsize,yticks=np.arange(0.,1.001,0.1),ax=ax, label=label)"
   ]
  },
  {
   "cell_type": "code",
   "execution_count": 26,
   "metadata": {
    "collapsed": false,
    "deletable": true,
    "editable": true
   },
   "outputs": [],
   "source": [
    "#sns.reset_orig()"
   ]
  },
  {
   "cell_type": "code",
   "execution_count": 63,
   "metadata": {
    "collapsed": true,
    "deletable": true,
    "editable": true
   },
   "outputs": [],
   "source": [
    "ax3 = cdf_plot(lane_mean_qdf[\"lane_queueing_length\"])"
   ]
  },
  {
   "cell_type": "code",
   "execution_count": 64,
   "metadata": {
    "collapsed": false,
    "deletable": true,
    "editable": true
   },
   "outputs": [],
   "source": [
    "ax3.set_xlim(0,50)\n",
    "ax3.set_ylim(0,1)\n",
    "ax3.set_xlabel(\"Queue Length (Meters)\",fontsize=16)\n",
    "ax3.set_ylabel(\"CDF\",fontsize=16)\n",
    "ax3.set_title(\"CDF of Average Queue Length\")\n",
    "ax3.grid()"
   ]
  },
  {
   "cell_type": "code",
   "execution_count": 66,
   "metadata": {
    "collapsed": false,
    "deletable": true,
    "editable": true
   },
   "outputs": [],
   "source": [
    "plt.savefig(\"cdf_avg_queue_len.pdf\",bbox_inches=\"tight\")"
   ]
  },
  {
   "cell_type": "code",
   "execution_count": 67,
   "metadata": {
    "collapsed": false,
    "deletable": true,
    "editable": true
   },
   "outputs": [
    {
     "data": {
      "image/png": "[encoded data removed]",
      "text/plain": [
       "<matplotlib.figure.Figure at 0x1ad87ee7780>"
      ]
     },
     "metadata": {},
     "output_type": "display_data"
    }
   ],
   "source": [
    "plt.show()"
   ]
  },
  {
   "cell_type": "code",
   "execution_count": 59,
   "metadata": {
    "collapsed": true,
    "deletable": true,
    "editable": true
   },
   "outputs": [],
   "source": [
    "ax4 = cdf_plot(lane_mean_qdf[\"lane_queueing_time\"])"
   ]
  },
  {
   "cell_type": "code",
   "execution_count": 60,
   "metadata": {
    "collapsed": true,
    "deletable": true,
    "editable": true
   },
   "outputs": [],
   "source": [
    "ax4.set_xlim(0,50)\n",
    "ax4.set_ylim(0,1)\n",
    "ax4.set_xlabel(\"Queue Time (Seconds)\",fontsize=16)\n",
    "ax4.set_ylabel(\"CDF\",fontsize=16)\n",
    "ax4.set_title(\"CDF of Average Queue Time\")\n",
    "ax4.grid()"
   ]
  },
  {
   "cell_type": "code",
   "execution_count": 61,
   "metadata": {
    "collapsed": true,
    "deletable": true,
    "editable": true
   },
   "outputs": [],
   "source": [
    "plt.savefig(\"cdf_avg_queue_time.pdf\",bbox_inches=\"tight\")"
   ]
  },
  {
   "cell_type": "code",
   "execution_count": 62,
   "metadata": {
    "collapsed": false,
    "deletable": true,
    "editable": true
   },
   "outputs": [
    {
     "data": {
      "image/png": "[encoded data removed]",
      "text/plain": [
       "<matplotlib.figure.Figure at 0x1ad87ea9ef0>"
      ]
     },
     "metadata": {},
     "output_type": "display_data"
    }
   ],
   "source": [
    "plt.show()"
   ]
  },
  {
   "cell_type": "markdown",
   "metadata": {
    "deletable": true,
    "editable": true
   },
   "source": [
    "(NOT DOING IT NOW) We can also get the best fit results for distribution of length of the queue."
   ]
  },
  {
   "cell_type": "code",
   "execution_count": 35,
   "metadata": {
    "collapsed": true,
    "deletable": true,
    "editable": true
   },
   "outputs": [],
   "source": [
    "def analyze_best_fit(lane_groups):\n",
    "    distributions = [st.expon, st.norm,st.gamma,st.weibull_max,st.weibull_min,st.logistic,st.beta]\n",
    "    def get_best_fits(data):\n",
    "        mles = []\n",
    "        for distribution in distributions:\n",
    "            pars = distribution.fit(data)\n",
    "            mle = distribution.nnlf(pars, data)\n",
    "            mles.append(mle)\n",
    "        temp = sorted(zip(distributions, mles), key=lambda d: d[1])\n",
    "        return [name ,temp[0][0].name,temp[1][0].name,temp[2][0].name,temp[3][0].name,temp[4][0].name]\n",
    "\n",
    "    best_fits = []\n",
    "    for name,group in lane_groups:\n",
    "        best_fits.append(get_best_fits(group[\"lane_queueing_length\"]))\n",
    "    return best_fits"
   ]
  },
  {
   "cell_type": "markdown",
   "metadata": {
    "deletable": true,
    "editable": true
   },
   "source": [
    "** Now let's have a look at egde info output dump**\n",
    "\n",
    "\n",
    "http://sumo.dlr.de/wiki/Simulation/Output/Lane-_or_Edge-based_Traffic_Measures"
   ]
  },
  {
   "cell_type": "code",
   "execution_count": 69,
   "metadata": {
    "collapsed": false,
    "deletable": true,
    "editable": true
   },
   "outputs": [],
   "source": [
    "if \"edge_df\" in store:\n",
    "    edf = store[\"edge_df\"]\n",
    "else:\n",
    "    edf = pd.read_csv(egdeinfo_file_name,sep=';')\n",
    "    edf = edf.dropna()\n",
    "    store[\"edge_df\"] = edf"
   ]
  },
  {
   "cell_type": "code",
   "execution_count": 70,
   "metadata": {
    "collapsed": false,
    "deletable": true,
    "editable": true
   },
   "outputs": [
    {
     "data": {
      "text/html": [
       "<div>\n",
       "<table border=\"1\" class=\"dataframe\">\n",
       "  <thead>\n",
       "    <tr style=\"text-align: right;\">\n",
       "      <th></th>\n",
       "      <th>interval_begin</th>\n",
       "      <th>interval_end</th>\n",
       "      <th>interval_id</th>\n",
       "      <th>edge_arrived</th>\n",
       "      <th>edge_density</th>\n",
       "      <th>edge_departed</th>\n",
       "      <th>edge_entered</th>\n",
       "      <th>edge_id</th>\n",
       "      <th>edge_laneChangedFrom</th>\n",
       "      <th>edge_laneChangedTo</th>\n",
       "      <th>edge_left</th>\n",
       "      <th>edge_occupancy</th>\n",
       "      <th>edge_overlapTraveltime</th>\n",
       "      <th>edge_sampledSeconds</th>\n",
       "      <th>edge_speed</th>\n",
       "      <th>edge_traveltime</th>\n",
       "      <th>edge_waitingTime</th>\n",
       "    </tr>\n",
       "  </thead>\n",
       "  <tbody>\n",
       "    <tr>\n",
       "      <th>0</th>\n",
       "      <td>21600.0</td>\n",
       "      <td>21660.0</td>\n",
       "      <td>dump_60_60</td>\n",
       "      <td>0</td>\n",
       "      <td>2.10</td>\n",
       "      <td>0</td>\n",
       "      <td>1</td>\n",
       "      <td>-118423453#0</td>\n",
       "      <td>0</td>\n",
       "      <td>0</td>\n",
       "      <td>1</td>\n",
       "      <td>0.95</td>\n",
       "      <td>9.00</td>\n",
       "      <td>9.00</td>\n",
       "      <td>8.43</td>\n",
       "      <td>8.32</td>\n",
       "      <td>0.0</td>\n",
       "    </tr>\n",
       "    <tr>\n",
       "      <th>1</th>\n",
       "      <td>21600.0</td>\n",
       "      <td>21660.0</td>\n",
       "      <td>dump_60_60</td>\n",
       "      <td>0</td>\n",
       "      <td>2.34</td>\n",
       "      <td>0</td>\n",
       "      <td>1</td>\n",
       "      <td>-118427321</td>\n",
       "      <td>0</td>\n",
       "      <td>0</td>\n",
       "      <td>1</td>\n",
       "      <td>1.06</td>\n",
       "      <td>14.49</td>\n",
       "      <td>14.49</td>\n",
       "      <td>7.42</td>\n",
       "      <td>13.70</td>\n",
       "      <td>0.0</td>\n",
       "    </tr>\n",
       "    <tr>\n",
       "      <th>2</th>\n",
       "      <td>21600.0</td>\n",
       "      <td>21660.0</td>\n",
       "      <td>dump_60_60</td>\n",
       "      <td>0</td>\n",
       "      <td>1.02</td>\n",
       "      <td>0</td>\n",
       "      <td>1</td>\n",
       "      <td>-129381478#1</td>\n",
       "      <td>0</td>\n",
       "      <td>0</td>\n",
       "      <td>0</td>\n",
       "      <td>0.46</td>\n",
       "      <td>12.74</td>\n",
       "      <td>4.89</td>\n",
       "      <td>6.62</td>\n",
       "      <td>12.06</td>\n",
       "      <td>0.0</td>\n",
       "    </tr>\n",
       "    <tr>\n",
       "      <th>3</th>\n",
       "      <td>21600.0</td>\n",
       "      <td>21660.0</td>\n",
       "      <td>dump_60_60</td>\n",
       "      <td>0</td>\n",
       "      <td>1.62</td>\n",
       "      <td>0</td>\n",
       "      <td>1</td>\n",
       "      <td>-129381482#0</td>\n",
       "      <td>0</td>\n",
       "      <td>0</td>\n",
       "      <td>1</td>\n",
       "      <td>0.73</td>\n",
       "      <td>5.40</td>\n",
       "      <td>5.40</td>\n",
       "      <td>11.11</td>\n",
       "      <td>4.73</td>\n",
       "      <td>0.0</td>\n",
       "    </tr>\n",
       "    <tr>\n",
       "      <th>4</th>\n",
       "      <td>21600.0</td>\n",
       "      <td>21660.0</td>\n",
       "      <td>dump_60_60</td>\n",
       "      <td>0</td>\n",
       "      <td>1.50</td>\n",
       "      <td>0</td>\n",
       "      <td>1</td>\n",
       "      <td>-129381482#2</td>\n",
       "      <td>0</td>\n",
       "      <td>0</td>\n",
       "      <td>1</td>\n",
       "      <td>0.67</td>\n",
       "      <td>5.45</td>\n",
       "      <td>5.45</td>\n",
       "      <td>11.94</td>\n",
       "      <td>5.07</td>\n",
       "      <td>0.0</td>\n",
       "    </tr>\n",
       "  </tbody>\n",
       "</table>\n",
       "</div>"
      ],
      "text/plain": [
       "   interval_begin  interval_end interval_id  edge_arrived  edge_density  \\\n",
       "0         21600.0       21660.0  dump_60_60             0          2.10   \n",
       "1         21600.0       21660.0  dump_60_60             0          2.34   \n",
       "2         21600.0       21660.0  dump_60_60             0          1.02   \n",
       "3         21600.0       21660.0  dump_60_60             0          1.62   \n",
       "4         21600.0       21660.0  dump_60_60             0          1.50   \n",
       "\n",
       "   edge_departed  edge_entered       edge_id  edge_laneChangedFrom  \\\n",
       "0              0             1  -118423453#0                     0   \n",
       "1              0             1    -118427321                     0   \n",
       "2              0             1  -129381478#1                     0   \n",
       "3              0             1  -129381482#0                     0   \n",
       "4              0             1  -129381482#2                     0   \n",
       "\n",
       "   edge_laneChangedTo  edge_left  edge_occupancy  edge_overlapTraveltime  \\\n",
       "0                   0          1            0.95                    9.00   \n",
       "1                   0          1            1.06                   14.49   \n",
       "2                   0          0            0.46                   12.74   \n",
       "3                   0          1            0.73                    5.40   \n",
       "4                   0          1            0.67                    5.45   \n",
       "\n",
       "   edge_sampledSeconds  edge_speed  edge_traveltime  edge_waitingTime  \n",
       "0                 9.00        8.43             8.32               0.0  \n",
       "1                14.49        7.42            13.70               0.0  \n",
       "2                 4.89        6.62            12.06               0.0  \n",
       "3                 5.40       11.11             4.73               0.0  \n",
       "4                 5.45       11.94             5.07               0.0  "
      ]
     },
     "execution_count": 70,
     "metadata": {},
     "output_type": "execute_result"
    }
   ],
   "source": [
    "edf[:5]"
   ]
  },
  {
   "cell_type": "code",
   "execution_count": 71,
   "metadata": {
    "collapsed": false,
    "deletable": true,
    "editable": true
   },
   "outputs": [
    {
     "name": "stderr",
     "output_type": "stream",
     "text": [
      "C:\\Users\\Roozbeh\\Anaconda3\\lib\\site-packages\\ipykernel\\__main__.py:1: FutureWarning: currently extract(expand=None) means expand=False (return Index/Series/DataFrame) but in a future version of pandas this will be changed to expand=True (return DataFrame)\n",
      "  if __name__ == '__main__':\n"
     ]
    }
   ],
   "source": [
    "edf[\"edge_density\"] = edf[\"edge_density\"].astype(str).str.extract( \"([0-9\\.]+)\" ).astype(np.float)"
   ]
  },
  {
   "cell_type": "code",
   "execution_count": 72,
   "metadata": {
    "collapsed": false,
    "deletable": true,
    "editable": true
   },
   "outputs": [],
   "source": [
    "#assuming 2meters for length of  car it doesn't make much sense to have more than 500 cars in a km!\n",
    "edf = edf[edf[\"edge_density\"] <= 500]"
   ]
  },
  {
   "cell_type": "code",
   "execution_count": 77,
   "metadata": {
    "collapsed": true,
    "deletable": true,
    "editable": true
   },
   "outputs": [],
   "source": [
    "ax5 = cdf_plot(edf[\"edge_density\"])"
   ]
  },
  {
   "cell_type": "code",
   "execution_count": 78,
   "metadata": {
    "collapsed": false,
    "deletable": true,
    "editable": true
   },
   "outputs": [],
   "source": [
    "ax5.set_xlim((0,100))\n",
    "ax5.set_ylim(0,1)\n",
    "ax5.set_xlabel(\"Edge Density (Veh/KM)\",fontsize=16)\n",
    "ax5.set_ylabel(\"CDF\",fontsize=16)\n",
    "ax5.set_title(\"CDF of Overal Edge Densities\")\n",
    "ax5.grid()"
   ]
  },
  {
   "cell_type": "code",
   "execution_count": 79,
   "metadata": {
    "collapsed": true,
    "deletable": true,
    "editable": true
   },
   "outputs": [],
   "source": [
    "plt.savefig(\"cdf_edge_density.pdf\",bbox_inches=\"tight\")"
   ]
  },
  {
   "cell_type": "code",
   "execution_count": 80,
   "metadata": {
    "collapsed": false,
    "deletable": true,
    "editable": true
   },
   "outputs": [
    {
     "data": {
      "image/png": "[encoded data removed]",
      "text/plain": [
       "<matplotlib.figure.Figure at 0x1ad87cda438>"
      ]
     },
     "metadata": {},
     "output_type": "display_data"
    }
   ],
   "source": [
    "plt.show()"
   ]
  },
  {
   "cell_type": "code",
   "execution_count": 81,
   "metadata": {
    "collapsed": false,
    "deletable": true,
    "editable": true
   },
   "outputs": [],
   "source": [
    "edf[\"edge_occupancy\"] = edf[\"edge_occupancy\"].astype(str).str.extract( \"([0-9\\.]+)\" ,expand=False).astype(np.float)"
   ]
  },
  {
   "cell_type": "code",
   "execution_count": 87,
   "metadata": {
    "collapsed": false,
    "deletable": true,
    "editable": true
   },
   "outputs": [],
   "source": [
    "ax6 = cdf_plot(edf[\"edge_occupancy\"])"
   ]
  },
  {
   "cell_type": "code",
   "execution_count": 88,
   "metadata": {
    "collapsed": false,
    "deletable": true,
    "editable": true
   },
   "outputs": [],
   "source": [
    "ax6.set_xlim((0,100))\n",
    "ax6.set_ylim(0,1)\n",
    "ax6.set_xlabel(\"Edge Occupancy (%)\",fontsize=16)\n",
    "ax6.set_ylabel(\"CDF\",fontsize=16)\n",
    "ax6.set_title(\"CDF of Overal Edge Occupancies\")\n",
    "ax6.grid()"
   ]
  },
  {
   "cell_type": "code",
   "execution_count": 89,
   "metadata": {
    "collapsed": true,
    "deletable": true,
    "editable": true
   },
   "outputs": [],
   "source": [
    "plt.savefig(\"cdf_edge_occ.pdf\",bbox_inches=\"tight\")"
   ]
  },
  {
   "cell_type": "code",
   "execution_count": 90,
   "metadata": {
    "collapsed": false,
    "deletable": true,
    "editable": true
   },
   "outputs": [
    {
     "data": {
      "image/png": "[encoded data removed]",
      "text/plain": [
       "<matplotlib.figure.Figure at 0x1ad87e0eac8>"
      ]
     },
     "metadata": {},
     "output_type": "display_data"
    }
   ],
   "source": [
    "plt.show()"
   ]
  },
  {
   "cell_type": "code",
   "execution_count": 91,
   "metadata": {
    "collapsed": false,
    "deletable": true,
    "editable": true
   },
   "outputs": [],
   "source": [
    "edf[\"entered_or_departed\"] = edf[\"edge_entered\"] + edf[\"edge_departed\"]"
   ]
  },
  {
   "cell_type": "code",
   "execution_count": 92,
   "metadata": {
    "collapsed": false,
    "deletable": true,
    "editable": true
   },
   "outputs": [],
   "source": [
    "ax7 = cdf_plot(edf[\"entered_or_departed\"])"
   ]
  },
  {
   "cell_type": "code",
   "execution_count": 93,
   "metadata": {
    "collapsed": true,
    "deletable": true,
    "editable": true
   },
   "outputs": [],
   "source": [
    "ax7.set_xlabel(\"No. of Vehicles in a Minute\",fontsize=16)\n",
    "ax7.set_ylabel(\"CDF\",fontsize=16)\n",
    "ax7.set_title(\"CDF of Overal per Minute Vehicles\")\n",
    "ax7.grid()"
   ]
  },
  {
   "cell_type": "code",
   "execution_count": 94,
   "metadata": {
    "collapsed": true,
    "deletable": true,
    "editable": true
   },
   "outputs": [],
   "source": [
    "plt.savefig(\"cdf_overal_vehcount_per_minute.pdf\",bbox_inches=\"tight\")"
   ]
  },
  {
   "cell_type": "code",
   "execution_count": 95,
   "metadata": {
    "collapsed": false,
    "deletable": true,
    "editable": true
   },
   "outputs": [
    {
     "data": {
      "image/png": "[encoded data removed]",
      "text/plain": [
       "<matplotlib.figure.Figure at 0x1adea115940>"
      ]
     },
     "metadata": {},
     "output_type": "display_data"
    }
   ],
   "source": [
    "plt.show()"
   ]
  },
  {
   "cell_type": "code",
   "execution_count": 101,
   "metadata": {
    "collapsed": true
   },
   "outputs": [],
   "source": [
    "edf[\"car_count\"] = edf[\"edge_entered\"] + edf[\"edge_departed\"] + edf[\"edge_laneChangedTo\"]"
   ]
  },
  {
   "cell_type": "code",
   "execution_count": 102,
   "metadata": {
    "collapsed": false
   },
   "outputs": [
    {
     "data": {
      "text/plain": [
       "<matplotlib.axes._subplots.AxesSubplot at 0x1ad80317390>"
      ]
     },
     "execution_count": 102,
     "metadata": {},
     "output_type": "execute_result"
    }
   ],
   "source": [
    "edf.ix[(edf[\"car_count\"]<40) & (edf[\"car_count\"]!=0),\"car_count\"].hist(bins=20)"
   ]
  },
  {
   "cell_type": "code",
   "execution_count": 103,
   "metadata": {
    "collapsed": false
   },
   "outputs": [
    {
     "data": {
      "image/png": "[encoded data removed]",
      "text/plain": [
       "<matplotlib.figure.Figure at 0x1ad89f778d0>"
      ]
     },
     "metadata": {},
     "output_type": "display_data"
    }
   ],
   "source": [
    "plt.show()"
   ]
  },
  {
   "cell_type": "code",
   "execution_count": 96,
   "metadata": {
    "collapsed": true,
    "deletable": true,
    "editable": true
   },
   "outputs": [],
   "source": [
    "import seaborn as sns"
   ]
  },
  {
   "cell_type": "code",
   "execution_count": 97,
   "metadata": {
    "collapsed": true,
    "deletable": true,
    "editable": true
   },
   "outputs": [],
   "source": [
    "sns.reset_orig()"
   ]
  },
  {
   "cell_type": "code",
   "execution_count": 112,
   "metadata": {
    "collapsed": false,
    "deletable": true,
    "editable": true
   },
   "outputs": [],
   "source": [
    "#ax8 = sns.distplot(edf[\"entered_or_departed\"],bins=32,kde_kws ={ \"bw\" : 0.95 , \"color\" : \"red\"})\n",
    "ax8 = sns.distplot(edf[\"car_count\"],bins=32,hist_kws={\"alpha\":0.8},\n",
    "                   fit=st.expon,kde=False,fit_kws={\"color\":\"red\",\"label\":\"exponential fit\"})"
   ]
  },
  {
   "cell_type": "code",
   "execution_count": 113,
   "metadata": {
    "collapsed": false,
    "deletable": true,
    "editable": true
   },
   "outputs": [
    {
     "data": {
      "text/plain": [
       "<matplotlib.text.Text at 0x1ad88a8a518>"
      ]
     },
     "execution_count": 113,
     "metadata": {},
     "output_type": "execute_result"
    }
   ],
   "source": [
    "ax8.set_xlim(0,30)\n",
    "ax8.set_xlabel(\"Number of cars\",fontsize=16)\n",
    "ax8.set_ylabel(\"Normed frequency\",fontsize=16)\n",
    "ax8.set_title(\"Density on all road segments per minute\")"
   ]
  },
  {
   "cell_type": "code",
   "execution_count": 114,
   "metadata": {
    "collapsed": true,
    "deletable": true,
    "editable": true
   },
   "outputs": [],
   "source": [
    "plt.savefig(\"density_total_car_count.pdf\",bbox_inches=\"tight\")"
   ]
  },
  {
   "cell_type": "code",
   "execution_count": 115,
   "metadata": {
    "collapsed": false,
    "deletable": true,
    "editable": true
   },
   "outputs": [
    {
     "data": {
      "image/png": "[encoded data removed]",
      "text/plain": [
       "<matplotlib.figure.Figure at 0x1ad887fbd68>"
      ]
     },
     "metadata": {},
     "output_type": "display_data"
    }
   ],
   "source": [
    "plt.show()"
   ]
  },
  {
   "cell_type": "code",
   "execution_count": null,
   "metadata": {
    "collapsed": true,
    "deletable": true,
    "editable": true
   },
   "outputs": [],
   "source": []
  }
 ],
 "metadata": {
  "anaconda-cloud": {},
  "kernelspec": {
   "display_name": "Python 3",
   "language": "python",
   "name": "python3"
  },
  "language_info": {
   "codemirror_mode": {
    "name": "ipython",
    "version": 3
   },
   "file_extension": ".py",
   "mimetype": "text/x-python",
   "name": "python",
   "nbconvert_exporter": "python",
   "pygments_lexer": "ipython3",
   "version": "3.6.0"
  }
 },
 "nbformat": 4,
 "nbformat_minor": 2
}
