{
 "cells": [
  {
   "cell_type": "code",
   "execution_count": 1,
   "metadata": {
    "collapsed": true
   },
   "outputs": [],
   "source": [
    "import pandas as pd\n",
    "import matplotlib.pyplot as plt\n",
    "import numpy as np"
   ]
  },
  {
   "cell_type": "code",
   "execution_count": 2,
   "metadata": {
    "collapsed": true
   },
   "outputs": [],
   "source": [
    "store = pd.HDFStore(\"london_dua60.h5\")"
   ]
  },
  {
   "cell_type": "code",
   "execution_count": 3,
   "metadata": {
    "collapsed": false
   },
   "outputs": [],
   "source": [
    "tripdf = store[\"tripinfos_df\"]"
   ]
  },
  {
   "cell_type": "code",
   "execution_count": 4,
   "metadata": {
    "collapsed": false
   },
   "outputs": [
    {
     "data": {
      "text/html": [
       "<div>\n",
       "<table border=\"1\" class=\"dataframe\">\n",
       "  <thead>\n",
       "    <tr style=\"text-align: right;\">\n",
       "      <th></th>\n",
       "      <th>tripinfo_arrival</th>\n",
       "      <th>tripinfo_waitSteps</th>\n",
       "      <th>tripinfo_vType</th>\n",
       "      <th>tripinfo_depart</th>\n",
       "      <th>tripinfo_routeLength</th>\n",
       "      <th>tripinfo_vaporized</th>\n",
       "      <th>tripinfo_duration</th>\n",
       "      <th>tripinfo_arrivalSpeed</th>\n",
       "      <th>tripinfo_devices</th>\n",
       "      <th>tripinfo_departPos</th>\n",
       "      <th>tripinfo_departDelay</th>\n",
       "      <th>tripinfo_timeLoss</th>\n",
       "      <th>tripinfo_departLane</th>\n",
       "      <th>tripinfo_departSpeed</th>\n",
       "      <th>tripinfo_arrivalPos</th>\n",
       "      <th>tripinfo_rerouteNo</th>\n",
       "      <th>tripinfo_id</th>\n",
       "      <th>tripinfo_arrivalLane</th>\n",
       "    </tr>\n",
       "  </thead>\n",
       "  <tbody>\n",
       "    <tr>\n",
       "      <th>0</th>\n",
       "      <td>131.0</td>\n",
       "      <td>13</td>\n",
       "      <td>DEFAULT_VEHTYPE</td>\n",
       "      <td>12.0</td>\n",
       "      <td>1121.43</td>\n",
       "      <td>NaN</td>\n",
       "      <td>119.0</td>\n",
       "      <td>12.73</td>\n",
       "      <td>tripinfo_7863</td>\n",
       "      <td>5.1</td>\n",
       "      <td>-0.76</td>\n",
       "      <td>34.07</td>\n",
       "      <td>220019919#0_1</td>\n",
       "      <td>11.26</td>\n",
       "      <td>230.76</td>\n",
       "      <td>0</td>\n",
       "      <td>7863</td>\n",
       "      <td>-387883965#4_0</td>\n",
       "    </tr>\n",
       "    <tr>\n",
       "      <th>1</th>\n",
       "      <td>221.0</td>\n",
       "      <td>25</td>\n",
       "      <td>DEFAULT_VEHTYPE</td>\n",
       "      <td>59.0</td>\n",
       "      <td>1121.43</td>\n",
       "      <td>NaN</td>\n",
       "      <td>162.0</td>\n",
       "      <td>12.21</td>\n",
       "      <td>tripinfo_7874</td>\n",
       "      <td>5.1</td>\n",
       "      <td>21.53</td>\n",
       "      <td>77.33</td>\n",
       "      <td>220019919#0_1</td>\n",
       "      <td>1.07</td>\n",
       "      <td>230.76</td>\n",
       "      <td>0</td>\n",
       "      <td>7874</td>\n",
       "      <td>-387883965#4_0</td>\n",
       "    </tr>\n",
       "    <tr>\n",
       "      <th>2</th>\n",
       "      <td>280.0</td>\n",
       "      <td>57</td>\n",
       "      <td>DEFAULT_VEHTYPE</td>\n",
       "      <td>75.0</td>\n",
       "      <td>1121.43</td>\n",
       "      <td>NaN</td>\n",
       "      <td>205.0</td>\n",
       "      <td>10.51</td>\n",
       "      <td>tripinfo_7902</td>\n",
       "      <td>5.1</td>\n",
       "      <td>33.86</td>\n",
       "      <td>119.94</td>\n",
       "      <td>220019919#0_1</td>\n",
       "      <td>5.57</td>\n",
       "      <td>230.76</td>\n",
       "      <td>0</td>\n",
       "      <td>7902</td>\n",
       "      <td>-387883965#4_0</td>\n",
       "    </tr>\n",
       "    <tr>\n",
       "      <th>3</th>\n",
       "      <td>307.0</td>\n",
       "      <td>3</td>\n",
       "      <td>DEFAULT_VEHTYPE</td>\n",
       "      <td>5.0</td>\n",
       "      <td>3255.66</td>\n",
       "      <td>NaN</td>\n",
       "      <td>302.0</td>\n",
       "      <td>12.33</td>\n",
       "      <td>tripinfo_24180</td>\n",
       "      <td>5.1</td>\n",
       "      <td>-0.37</td>\n",
       "      <td>36.99</td>\n",
       "      <td>8599345#0_0</td>\n",
       "      <td>8.94</td>\n",
       "      <td>50.57</td>\n",
       "      <td>0</td>\n",
       "      <td>24180</td>\n",
       "      <td>220019919#0_1</td>\n",
       "    </tr>\n",
       "    <tr>\n",
       "      <th>4</th>\n",
       "      <td>314.0</td>\n",
       "      <td>94</td>\n",
       "      <td>DEFAULT_VEHTYPE</td>\n",
       "      <td>8.0</td>\n",
       "      <td>2286.24</td>\n",
       "      <td>NaN</td>\n",
       "      <td>306.0</td>\n",
       "      <td>12.22</td>\n",
       "      <td>tripinfo_6550</td>\n",
       "      <td>5.1</td>\n",
       "      <td>-0.42</td>\n",
       "      <td>133.61</td>\n",
       "      <td>211486426#0_0</td>\n",
       "      <td>13.41</td>\n",
       "      <td>21.28</td>\n",
       "      <td>0</td>\n",
       "      <td>6550</td>\n",
       "      <td>51958479#0_0</td>\n",
       "    </tr>\n",
       "  </tbody>\n",
       "</table>\n",
       "</div>"
      ],
      "text/plain": [
       "   tripinfo_arrival  tripinfo_waitSteps   tripinfo_vType  tripinfo_depart  \\\n",
       "0             131.0                  13  DEFAULT_VEHTYPE             12.0   \n",
       "1             221.0                  25  DEFAULT_VEHTYPE             59.0   \n",
       "2             280.0                  57  DEFAULT_VEHTYPE             75.0   \n",
       "3             307.0                   3  DEFAULT_VEHTYPE              5.0   \n",
       "4             314.0                  94  DEFAULT_VEHTYPE              8.0   \n",
       "\n",
       "   tripinfo_routeLength  tripinfo_vaporized  tripinfo_duration  \\\n",
       "0               1121.43                 NaN              119.0   \n",
       "1               1121.43                 NaN              162.0   \n",
       "2               1121.43                 NaN              205.0   \n",
       "3               3255.66                 NaN              302.0   \n",
       "4               2286.24                 NaN              306.0   \n",
       "\n",
       "   tripinfo_arrivalSpeed tripinfo_devices  tripinfo_departPos  \\\n",
       "0                  12.73    tripinfo_7863                 5.1   \n",
       "1                  12.21    tripinfo_7874                 5.1   \n",
       "2                  10.51    tripinfo_7902                 5.1   \n",
       "3                  12.33   tripinfo_24180                 5.1   \n",
       "4                  12.22    tripinfo_6550                 5.1   \n",
       "\n",
       "   tripinfo_departDelay  tripinfo_timeLoss tripinfo_departLane  \\\n",
       "0                 -0.76              34.07       220019919#0_1   \n",
       "1                 21.53              77.33       220019919#0_1   \n",
       "2                 33.86             119.94       220019919#0_1   \n",
       "3                 -0.37              36.99         8599345#0_0   \n",
       "4                 -0.42             133.61       211486426#0_0   \n",
       "\n",
       "   tripinfo_departSpeed  tripinfo_arrivalPos  tripinfo_rerouteNo  tripinfo_id  \\\n",
       "0                 11.26               230.76                   0         7863   \n",
       "1                  1.07               230.76                   0         7874   \n",
       "2                  5.57               230.76                   0         7902   \n",
       "3                  8.94                50.57                   0        24180   \n",
       "4                 13.41                21.28                   0         6550   \n",
       "\n",
       "  tripinfo_arrivalLane  \n",
       "0       -387883965#4_0  \n",
       "1       -387883965#4_0  \n",
       "2       -387883965#4_0  \n",
       "3        220019919#0_1  \n",
       "4         51958479#0_0  "
      ]
     },
     "execution_count": 4,
     "metadata": {},
     "output_type": "execute_result"
    }
   ],
   "source": [
    "tripdf[:5]"
   ]
  },
  {
   "cell_type": "code",
   "execution_count": 5,
   "metadata": {
    "collapsed": false
   },
   "outputs": [
    {
     "data": {
      "text/plain": [
       "0    119.0\n",
       "1    162.0\n",
       "2    205.0\n",
       "3    302.0\n",
       "4    306.0\n",
       "5    244.0\n",
       "Name: tripinfo_duration, dtype: float64"
      ]
     },
     "execution_count": 5,
     "metadata": {},
     "output_type": "execute_result"
    }
   ],
   "source": [
    "tripdf.ix[:5,\"tripinfo_duration\"]"
   ]
  },
  {
   "cell_type": "code",
   "execution_count": 6,
   "metadata": {
    "collapsed": false
   },
   "outputs": [
    {
     "data": {
      "text/plain": [
       "<matplotlib.axes._subplots.AxesSubplot at 0xa52f438>"
      ]
     },
     "execution_count": 6,
     "metadata": {},
     "output_type": "execute_result"
    }
   ],
   "source": [
    "tripdf[\"tripinfo_duration\"].hist(normed=True)"
   ]
  },
  {
   "cell_type": "code",
   "execution_count": 7,
   "metadata": {
    "collapsed": true
   },
   "outputs": [],
   "source": [
    "#plt.savefig(\"trip_duration_hist.jpg\")"
   ]
  },
  {
   "cell_type": "code",
   "execution_count": 8,
   "metadata": {
    "collapsed": false,
    "scrolled": true
   },
   "outputs": [
    {
     "data": {
      "image/png": "[encoded data removed]",
      "text/plain": [
       "<matplotlib.figure.Figure at 0xa52ff60>"
      ]
     },
     "metadata": {},
     "output_type": "display_data"
    }
   ],
   "source": [
    "plt.show()"
   ]
  },
  {
   "cell_type": "code",
   "execution_count": 9,
   "metadata": {
    "collapsed": false
   },
   "outputs": [
    {
     "data": {
      "text/plain": [
       "<matplotlib.axes._subplots.AxesSubplot at 0xa4a2ef0>"
      ]
     },
     "execution_count": 9,
     "metadata": {},
     "output_type": "execute_result"
    }
   ],
   "source": [
    "tripdf[\"tripinfo_arrival\"].hist(bins=[0,1800,3600,5400,7200])"
   ]
  },
  {
   "cell_type": "code",
   "execution_count": null,
   "metadata": {
    "collapsed": true
   },
   "outputs": [],
   "source": [
    "#plt.savefig(\"completed_trips_hist_4bins_half_hour.jpg\")"
   ]
  },
  {
   "cell_type": "code",
   "execution_count": 10,
   "metadata": {
    "collapsed": false
   },
   "outputs": [
    {
     "data": {
      "image/png": "[encoded data removed]",
      "text/plain": [
       "<matplotlib.figure.Figure at 0xb907ac8>"
      ]
     },
     "metadata": {},
     "output_type": "display_data"
    }
   ],
   "source": [
    "plt.show()"
   ]
  },
  {
   "cell_type": "code",
   "execution_count": 11,
   "metadata": {
    "collapsed": true
   },
   "outputs": [],
   "source": [
    "import scipy.stats as st"
   ]
  },
  {
   "cell_type": "code",
   "execution_count": null,
   "metadata": {
    "collapsed": true
   },
   "outputs": [],
   "source": [
    "#data = np.log(tripdf[\"tripinfo_duration\"])"
   ]
  },
  {
   "cell_type": "code",
   "execution_count": null,
   "metadata": {
    "collapsed": false
   },
   "outputs": [],
   "source": [
    "#data.hist()"
   ]
  },
  {
   "cell_type": "code",
   "execution_count": null,
   "metadata": {
    "collapsed": false
   },
   "outputs": [],
   "source": [
    "#plt.show()"
   ]
  },
  {
   "cell_type": "code",
   "execution_count": 12,
   "metadata": {
    "collapsed": false
   },
   "outputs": [
    {
     "name": "stdout",
     "output_type": "stream",
     "text": [
      "7.16425286558 119.0 3.34270964998\n"
     ]
    }
   ],
   "source": [
    "s,loc,scale = st.lognorm.fit(tripdf[\"tripinfo_duration\"])\n",
    "print s,loc,scale"
   ]
  },
  {
   "cell_type": "code",
   "execution_count": null,
   "metadata": {
    "collapsed": false
   },
   "outputs": [],
   "source": [
    "#loc2,scale2 = st.norm.fit(data)\n",
    "#print loc2,scale2"
   ]
  },
  {
   "cell_type": "code",
   "execution_count": 84,
   "metadata": {
    "collapsed": true
   },
   "outputs": [],
   "source": [
    "x= np.linspace(0,8000,8000)"
   ]
  },
  {
   "cell_type": "code",
   "execution_count": 85,
   "metadata": {
    "collapsed": false
   },
   "outputs": [
    {
     "name": "stdout",
     "output_type": "stream",
     "text": [
      "[  0.00000000e+00   1.00012502e+00   2.00025003e+00 ...,   7.99799975e+03\n",
      "   7.99899987e+03   8.00000000e+03]\n"
     ]
    }
   ],
   "source": [
    "print x"
   ]
  },
  {
   "cell_type": "code",
   "execution_count": 119,
   "metadata": {
    "collapsed": false
   },
   "outputs": [
    {
     "name": "stdout",
     "output_type": "stream",
     "text": [
      "8000\n",
      "8000\n"
     ]
    },
    {
     "data": {
      "text/plain": [
       "[<matplotlib.lines.Line2D at 0x169720b8>]"
      ]
     },
     "execution_count": 119,
     "metadata": {},
     "output_type": "execute_result"
    }
   ],
   "source": [
    "fig = plt.figure()\n",
    "ax = fig.add_subplot(111)\n",
    "\n",
    "ax.hist(tripdf[\"tripinfo_duration\"],normed=True,alpha=0.3)\n",
    "ln = (st.lognorm.pdf(x,s=0.5,loc=loc,scale=np.exp(7.7)))\n",
    "print len(ln)\n",
    "print len(x)\n",
    "#print [round(x,3) for x in ln[:10]]\n",
    "ax.plot(ln,color=\"r\")"
   ]
  },
  {
   "cell_type": "code",
   "execution_count": 120,
   "metadata": {
    "collapsed": false
   },
   "outputs": [
    {
     "data": {
      "image/png": "[encoded data removed]",
      "text/plain": [
       "<matplotlib.figure.Figure at 0x167310f0>"
      ]
     },
     "metadata": {},
     "output_type": "display_data"
    }
   ],
   "source": [
    "plt.show()"
   ]
  },
  {
   "cell_type": "code",
   "execution_count": 21,
   "metadata": {
    "collapsed": true
   },
   "outputs": [],
   "source": [
    "plt.close(\"all\")"
   ]
  }
 ],
 "metadata": {
  "anaconda-cloud": {},
  "kernelspec": {
   "display_name": "Python [default]",
   "language": "python",
   "name": "python2"
  },
  "language_info": {
   "codemirror_mode": {
    "name": "ipython",
    "version": 2.0
   },
   "file_extension": ".py",
   "mimetype": "text/x-python",
   "name": "python",
   "nbconvert_exporter": "python",
   "pygments_lexer": "ipython2",
   "version": "2.7.11"
  }
 },
 "nbformat": 4,
 "nbformat_minor": 0
}