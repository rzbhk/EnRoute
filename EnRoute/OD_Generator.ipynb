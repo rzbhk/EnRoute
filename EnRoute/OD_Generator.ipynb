{
 "cells": [
  {
   "cell_type": "code",
   "execution_count": 1,
   "metadata": {
    "collapsed": false
   },
   "outputs": [],
   "source": [
    "import pandas as pd\n",
    "import numpy as np\n",
    "from enroute_utilities.graph import *\n",
    "from enroute_utilities.matrix import *\n",
    "from enroute_utilities.sumo import *\n",
    "from enroute_utilities.xml import *\n",
    "from os.path import join as path_join, normpath as norm_path, isfile as is_file\n",
    "import networkx as nx\n",
    "from matplotlib import pyplot as plt\n",
    "import pickle\n",
    "from scipy.stats import lognorm\n",
    "from math import exp\n",
    "from scipy.optimize import nnls\n",
    "from lxml import etree"
   ]
  },
  {
   "cell_type": "markdown",
   "metadata": {},
   "source": [
    "to export to python script use below."
   ]
  },
  {
   "cell_type": "code",
   "execution_count": null,
   "metadata": {
    "collapsed": true
   },
   "outputs": [],
   "source": [
    "#from timeit import default_timer as timer"
   ]
  },
  {
   "cell_type": "code",
   "execution_count": 2,
   "metadata": {
    "collapsed": false
   },
   "outputs": [],
   "source": [
    "origin_path = norm_path(r'C:\\Users\\Roozbeh\\Sumo\\London\\overlay\\50 cameras') #path were sampled data are"
   ]
  },
  {
   "cell_type": "code",
   "execution_count": 3,
   "metadata": {
    "collapsed": false
   },
   "outputs": [],
   "source": [
    "csv_extension = \".csv\"\n",
    "txt_extension = \".txt\"\n",
    "camera_input_file_path = norm_path(path_join(origin_path,\"london_50_cameras\"+csv_extension))\n",
    "camera_dist_file_path = norm_path(path_join(origin_path,\"london_50_camera_distances\"+csv_extension))\n",
    "flows_data_file_path = norm_path(path_join(origin_path,\"london_50_cameras_30min_data\"+csv_extension))"
   ]
  },
  {
   "cell_type": "code",
   "execution_count": 4,
   "metadata": {
    "collapsed": false
   },
   "outputs": [],
   "source": [
    "camerasdf = pd.read_csv(camera_input_file_path)[[\"CAMERA_ID\",\"EASTING\",\"NORTHING\",\"GEO_LAT\",\"GEO_LON\"]]\n",
    "distdf = pd.read_csv(camera_dist_file_path)[[\"CAMERA_ID_FROM\",\"CAMERA_ID_TO\",\"TIME\",\"DISTANCE\"]]"
   ]
  },
  {
   "cell_type": "markdown",
   "metadata": {},
   "source": [
    "DEFINE INPUT PARAMETERS"
   ]
  },
  {
   "cell_type": "code",
   "execution_count": 5,
   "metadata": {
    "collapsed": false
   },
   "outputs": [],
   "source": [
    "no_of_cameras = len(camerasdf)"
   ]
  },
  {
   "cell_type": "code",
   "execution_count": null,
   "metadata": {
    "collapsed": true
   },
   "outputs": [],
   "source": [
    "K =  #number of shortest paths ot use"
   ]
  },
  {
   "cell_type": "code",
   "execution_count": null,
   "metadata": {
    "collapsed": true
   },
   "outputs": [],
   "source": [
    "mu = 7\n",
    "sigma = 1.4"
   ]
  },
  {
   "cell_type": "code",
   "execution_count": null,
   "metadata": {
    "collapsed": false
   },
   "outputs": [],
   "source": [
    "camerasdf.describe()"
   ]
  },
  {
   "cell_type": "code",
   "execution_count": null,
   "metadata": {
    "collapsed": false
   },
   "outputs": [],
   "source": [
    "camerasdf[:2]"
   ]
  },
  {
   "cell_type": "code",
   "execution_count": null,
   "metadata": {
    "collapsed": true
   },
   "outputs": [],
   "source": [
    "distdf[\"TIME\"] = distdf[\"TIME\"].str.replace(\"[^0-9]+\", \"\").astype(np.int)"
   ]
  },
  {
   "cell_type": "code",
   "execution_count": null,
   "metadata": {
    "collapsed": false
   },
   "outputs": [],
   "source": [
    "%%time\n",
    "matrix = get_distance_matrix(distdf,camerasdf)"
   ]
  },
  {
   "cell_type": "code",
   "execution_count": null,
   "metadata": {
    "collapsed": false
   },
   "outputs": [],
   "source": [
    "matrix"
   ]
  },
  {
   "cell_type": "code",
   "execution_count": null,
   "metadata": {
    "collapsed": true
   },
   "outputs": [],
   "source": [
    "G = nx.from_numpy_matrix(matrix)"
   ]
  },
  {
   "cell_type": "code",
   "execution_count": null,
   "metadata": {
    "collapsed": false
   },
   "outputs": [],
   "source": [
    "#%matplotlib inline\n",
    "#nx.draw_shell(G)"
   ]
  },
  {
   "cell_type": "code",
   "execution_count": null,
   "metadata": {
    "collapsed": true
   },
   "outputs": [],
   "source": [
    "kshortest_paths_dump_path = norm_path(path_join(origin_path,str(no_of_cameras)+\"_cameras_\"+str(K)+\"_shortest_paths.dump\"))"
   ]
  },
  {
   "cell_type": "code",
   "execution_count": null,
   "metadata": {
    "collapsed": false
   },
   "outputs": [],
   "source": [
    "%%time\n",
    "if (is_file(kshortest_paths_dump_path)):\n",
    "    print \"K Shortest path dump already exists. Loading!\"\n",
    "    a = pickle.load(open(kshortest_paths_dump_path,\"r\"))\n",
    "else:\n",
    "    print \"K Shortest path dump not existed. Generate and dumping to file! It might take a while!\"\n",
    "    a = k_shortest_paths(no_of_cameras,K,G)\n",
    "    pickle.dump(a,open(kshortest_paths_dump_path,\"w\"))"
   ]
  },
  {
   "cell_type": "code",
   "execution_count": null,
   "metadata": {
    "collapsed": false
   },
   "outputs": [],
   "source": [
    "a[0][1]"
   ]
  },
  {
   "cell_type": "code",
   "execution_count": null,
   "metadata": {
    "collapsed": false
   },
   "outputs": [],
   "source": [
    "#To measure the time it takes to generate 5 shortest paths (I believe in seconds!):\n",
    "#print end_time - start_time"
   ]
  },
  {
   "cell_type": "code",
   "execution_count": null,
   "metadata": {
    "collapsed": true
   },
   "outputs": [],
   "source": [
    "lnpdf = lambda x: lognorm.pdf(x, s = sigma, scale = exp(mu)/60)\n",
    "lncdf = lambda x: lognorm.cdf(x, s = sigma, scale = exp(mu)/60)"
   ]
  },
  {
   "cell_type": "code",
   "execution_count": null,
   "metadata": {
    "collapsed": true
   },
   "outputs": [],
   "source": [
    "%matplotlib inline"
   ]
  },
  {
   "cell_type": "code",
   "execution_count": null,
   "metadata": {
    "collapsed": false
   },
   "outputs": [],
   "source": [
    "x = [i*0.1 for i in range(1000)]\n",
    "plt.plot(x,lnpdf(x))"
   ]
  },
  {
   "cell_type": "markdown",
   "metadata": {},
   "source": [
    "A_matrix generation"
   ]
  },
  {
   "cell_type": "code",
   "execution_count": null,
   "metadata": {
    "collapsed": false
   },
   "outputs": [],
   "source": [
    "%%time\n",
    "A_matrix = get_A_matrix(a,lnpdf,no_of_cameras)"
   ]
  },
  {
   "cell_type": "code",
   "execution_count": null,
   "metadata": {
    "collapsed": false
   },
   "outputs": [],
   "source": [
    "A_matrix"
   ]
  },
  {
   "cell_type": "code",
   "execution_count": null,
   "metadata": {
    "collapsed": true
   },
   "outputs": [],
   "source": [
    "A_matrix_dump_addr = norm_path(path_join(origin_path,str(no_of_cameras)+\"_cameras_A_matrix\"))"
   ]
  },
  {
   "cell_type": "code",
   "execution_count": null,
   "metadata": {
    "collapsed": true
   },
   "outputs": [],
   "source": [
    "np.savetxt(A_matrix_dump_addr+txt_extension,A_matrix,fmt=\"%3.8f\")\n",
    "np.save(A_matrix_dump_addr,A_matrix)"
   ]
  },
  {
   "cell_type": "code",
   "execution_count": null,
   "metadata": {
    "collapsed": false
   },
   "outputs": [],
   "source": [
    "flowsdf = pd.read_csv(flows_data_file_path)"
   ]
  },
  {
   "cell_type": "code",
   "execution_count": null,
   "metadata": {
    "collapsed": false
   },
   "outputs": [],
   "source": [
    "flowsdf.columns = [\"Detector\",\"Flow\"]"
   ]
  },
  {
   "cell_type": "code",
   "execution_count": null,
   "metadata": {
    "collapsed": false
   },
   "outputs": [],
   "source": [
    "%%time\n",
    "b = np.array(get_b_vector_lognorm(flowsdf,distdf,lnpdf)) * 30 #we use lognormal results"
   ]
  },
  {
   "cell_type": "code",
   "execution_count": null,
   "metadata": {
    "collapsed": false
   },
   "outputs": [],
   "source": [
    "b"
   ]
  },
  {
   "cell_type": "code",
   "execution_count": null,
   "metadata": {
    "collapsed": false
   },
   "outputs": [],
   "source": [
    "%%time\n",
    "x,rnorm = nnls(A_matrix,b)"
   ]
  },
  {
   "cell_type": "code",
   "execution_count": null,
   "metadata": {
    "collapsed": false
   },
   "outputs": [],
   "source": [
    "x"
   ]
  },
  {
   "cell_type": "code",
   "execution_count": null,
   "metadata": {
    "collapsed": false
   },
   "outputs": [],
   "source": [
    "sum(x)"
   ]
  },
  {
   "cell_type": "code",
   "execution_count": null,
   "metadata": {
    "collapsed": true
   },
   "outputs": [],
   "source": [
    "x_vector_dump_addr = norm_path(path_join(origin_path,str(no_of_cameras)+\"_cameras_A_matrix\"))"
   ]
  },
  {
   "cell_type": "code",
   "execution_count": null,
   "metadata": {
    "collapsed": false
   },
   "outputs": [],
   "source": [
    "np.savetxt(x_vector_dump_addr+txt_extension,x)\n",
    "np.save(x_vector_dump_addr,x)"
   ]
  },
  {
   "cell_type": "code",
   "execution_count": null,
   "metadata": {
    "collapsed": false
   },
   "outputs": [],
   "source": [
    "net_file_path = norm_path(path_join(origin_path,\"../../london.net.xml\"))\n",
    "camera_with_closest_edge_file_path = norm_path(path_join(origin_path,\"london_50_cameras_with_closest_edge\"+csv_extension))"
   ]
  },
  {
   "cell_type": "code",
   "execution_count": null,
   "metadata": {
    "collapsed": false
   },
   "outputs": [],
   "source": [
    "%%time\n",
    "if is_file(camera_with_closest_edge_file_path):\n",
    "    print \"Camera file with closest edge already exists! Loading!\"\n",
    "    camerasdf = pd.read_csv(camera_with_closest_edge_file_path)[[\"CAMERA_ID\",\"EASTING\",\"NORTHING\",\"GEO_LAT\",\"GEO_LON\",\"CLOSEST_EDGE\"]]\n",
    "else:\n",
    "    print \"Camera file with closest edge not found! Generate and Writing the file! This might take a while\"\n",
    "    net_file,cameradf[\"CLOSEST_EDGE\"] = get_closest_edge(net_file_path,camerasdf) #if we have the net object we can pass it on as third param so it doesn't load again\n",
    "    camerasdf.to_csv(camera_with_closest_edge_file_path,index=False)"
   ]
  },
  {
   "cell_type": "code",
   "execution_count": null,
   "metadata": {
    "collapsed": false
   },
   "outputs": [],
   "source": [
    "taz_root = get_taz_xml_root(camerasdf) #camerasdf should have closest edge"
   ]
  },
  {
   "cell_type": "code",
   "execution_count": null,
   "metadata": {
    "collapsed": true
   },
   "outputs": [],
   "source": [
    "taz_file_path = norm_path(path_join(origin_path,\"london.taz.xml\"))"
   ]
  },
  {
   "cell_type": "code",
   "execution_count": null,
   "metadata": {
    "collapsed": false
   },
   "outputs": [],
   "source": [
    "with open(taz_file_path, 'w') as f:\n",
    "    f.write(etree.tostring(taz_root,pretty_print=True))"
   ]
  },
  {
   "cell_type": "code",
   "execution_count": null,
   "metadata": {
    "collapsed": true
   },
   "outputs": [],
   "source": [
    "od_file_path = norm_path(path_join(origin_path,\"london.od.txt\"))"
   ]
  },
  {
   "cell_type": "code",
   "execution_count": null,
   "metadata": {
    "collapsed": false
   },
   "outputs": [],
   "source": [
    "with open(od_file_path, \"w\") as f:\n",
    "    lines = get_formatted_OD(x,camerasdf,no_of_cameras)\n",
    "    for line in lines:\n",
    "        f.write(line+\"\\n\")"
   ]
  },
  {
   "cell_type": "markdown",
   "metadata": {},
   "source": [
    "Use OD2Trips and them DUAROUTER"
   ]
  },
  {
   "cell_type": "markdown",
   "metadata": {},
   "source": [
    "C:\\Users\\Roozbeh\\Sumo\\London\\overlay>od2trips -n london.taz.xml -d london.od.txt -o london.trip.xml"
   ]
  },
  {
   "cell_type": "markdown",
   "metadata": {},
   "source": [
    "C:\\Users\\Roozbeh\\Sumo\\London\\overlay>duarouter -n ../../london.net.xml -t london.trip.xml -o london.rou.xml --routing-threads 4"
   ]
  }
 ],
 "metadata": {
  "anaconda-cloud": {},
  "kernelspec": {
   "display_name": "Python [default]",
   "language": "python",
   "name": "python2"
  },
  "language_info": {
   "codemirror_mode": {
    "name": "ipython",
    "version": 2.0
   },
   "file_extension": ".py",
   "mimetype": "text/x-python",
   "name": "python",
   "nbconvert_exporter": "python",
   "pygments_lexer": "ipython2",
   "version": "2.7.11"
  }
 },
 "nbformat": 4,
 "nbformat_minor": 0
}