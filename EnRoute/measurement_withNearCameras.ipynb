{
 "cells": [
  {
   "cell_type": "code",
   "execution_count": 1,
   "metadata": {
    "collapsed": true,
    "deletable": true,
    "editable": true
   },
   "outputs": [],
   "source": [
    "import pandas as pd\n",
    "import numpy as np\n",
    "import matplotlib.pyplot as plt\n",
    "import scipy.stats as st"
   ]
  },
  {
   "cell_type": "markdown",
   "metadata": {
    "collapsed": true,
    "deletable": true,
    "editable": true
   },
   "source": [
    "**First we analyze the trip info output, all csv files are stored in h5 stores for compression and fast retrieval**"
   ]
  },
  {
   "cell_type": "code",
   "execution_count": 2,
   "metadata": {
    "collapsed": false,
    "deletable": true,
    "editable": true
   },
   "outputs": [],
   "source": [
    "store = pd.HDFStore(\"london_100_oneshot.h5\")"
   ]
  },
  {
   "cell_type": "code",
   "execution_count": 3,
   "metadata": {
    "collapsed": false,
    "deletable": true,
    "editable": true
   },
   "outputs": [],
   "source": [
    "if \"trip_df\" in store:\n",
    "    tdf = store[\"trip_df\"]\n",
    "else:\n",
    "    tdf = pd.read_csv(\"one_tripinfo.csv\",sep=';')\n",
    "    store[\"trip_df\"] = tdf"
   ]
  },
  {
   "cell_type": "code",
   "execution_count": 4,
   "metadata": {
    "collapsed": false,
    "deletable": true,
    "editable": true
   },
   "outputs": [
    {
     "data": {
      "text/html": [
       "<div>\n",
       "<table border=\"1\" class=\"dataframe\">\n",
       "  <thead>\n",
       "    <tr style=\"text-align: right;\">\n",
       "      <th></th>\n",
       "      <th>tripinfo_arrival</th>\n",
       "      <th>tripinfo_arrivalLane</th>\n",
       "      <th>tripinfo_arrivalPos</th>\n",
       "      <th>tripinfo_arrivalSpeed</th>\n",
       "      <th>tripinfo_depart</th>\n",
       "      <th>tripinfo_departDelay</th>\n",
       "      <th>tripinfo_departLane</th>\n",
       "      <th>tripinfo_departPos</th>\n",
       "      <th>tripinfo_departSpeed</th>\n",
       "      <th>tripinfo_devices</th>\n",
       "      <th>tripinfo_duration</th>\n",
       "      <th>tripinfo_id</th>\n",
       "      <th>tripinfo_rerouteNo</th>\n",
       "      <th>tripinfo_routeLength</th>\n",
       "      <th>tripinfo_timeLoss</th>\n",
       "      <th>tripinfo_vType</th>\n",
       "      <th>tripinfo_vaporized</th>\n",
       "      <th>tripinfo_waitSteps</th>\n",
       "    </tr>\n",
       "  </thead>\n",
       "  <tbody>\n",
       "    <tr>\n",
       "      <th>0</th>\n",
       "      <td>233.0</td>\n",
       "      <td>4260281#0_0</td>\n",
       "      <td>87.14</td>\n",
       "      <td>12.39</td>\n",
       "      <td>72.0</td>\n",
       "      <td>-0.24</td>\n",
       "      <td>173215324#0_0</td>\n",
       "      <td>0.17</td>\n",
       "      <td>0.00</td>\n",
       "      <td>vehroute_28735 tripinfo_28735 routing_28735</td>\n",
       "      <td>161.0</td>\n",
       "      <td>28735</td>\n",
       "      <td>2</td>\n",
       "      <td>1739.76</td>\n",
       "      <td>31.06</td>\n",
       "      <td>DEFAULT_VEHTYPE</td>\n",
       "      <td>NaN</td>\n",
       "      <td>3</td>\n",
       "    </tr>\n",
       "    <tr>\n",
       "      <th>1</th>\n",
       "      <td>321.0</td>\n",
       "      <td>7970840#0_1</td>\n",
       "      <td>51.59</td>\n",
       "      <td>6.15</td>\n",
       "      <td>73.0</td>\n",
       "      <td>-0.58</td>\n",
       "      <td>-271816292_1</td>\n",
       "      <td>5.10</td>\n",
       "      <td>13.41</td>\n",
       "      <td>vehroute_6170 tripinfo_6170 routing_6170</td>\n",
       "      <td>248.0</td>\n",
       "      <td>6170</td>\n",
       "      <td>1</td>\n",
       "      <td>2155.28</td>\n",
       "      <td>88.40</td>\n",
       "      <td>DEFAULT_VEHTYPE</td>\n",
       "      <td>NaN</td>\n",
       "      <td>53</td>\n",
       "    </tr>\n",
       "    <tr>\n",
       "      <th>2</th>\n",
       "      <td>328.0</td>\n",
       "      <td>14963109_2</td>\n",
       "      <td>281.34</td>\n",
       "      <td>16.83</td>\n",
       "      <td>43.0</td>\n",
       "      <td>1.64</td>\n",
       "      <td>-207984743_0</td>\n",
       "      <td>5.10</td>\n",
       "      <td>4.79</td>\n",
       "      <td>vehroute_3779 tripinfo_3779 routing_3779</td>\n",
       "      <td>285.0</td>\n",
       "      <td>3779</td>\n",
       "      <td>2</td>\n",
       "      <td>4071.14</td>\n",
       "      <td>47.14</td>\n",
       "      <td>DEFAULT_VEHTYPE</td>\n",
       "      <td>NaN</td>\n",
       "      <td>14</td>\n",
       "    </tr>\n",
       "    <tr>\n",
       "      <th>3</th>\n",
       "      <td>346.0</td>\n",
       "      <td>-312433747_1</td>\n",
       "      <td>8.98</td>\n",
       "      <td>8.84</td>\n",
       "      <td>66.0</td>\n",
       "      <td>2.82</td>\n",
       "      <td>-98860766#4_0</td>\n",
       "      <td>5.10</td>\n",
       "      <td>10.92</td>\n",
       "      <td>vehroute_1144 tripinfo_1144 routing_1144</td>\n",
       "      <td>280.0</td>\n",
       "      <td>1144</td>\n",
       "      <td>3</td>\n",
       "      <td>2393.83</td>\n",
       "      <td>115.89</td>\n",
       "      <td>DEFAULT_VEHTYPE</td>\n",
       "      <td>NaN</td>\n",
       "      <td>64</td>\n",
       "    </tr>\n",
       "    <tr>\n",
       "      <th>4</th>\n",
       "      <td>379.0</td>\n",
       "      <td>4082596#0_1</td>\n",
       "      <td>125.24</td>\n",
       "      <td>12.27</td>\n",
       "      <td>140.0</td>\n",
       "      <td>-0.06</td>\n",
       "      <td>173215324#0_0</td>\n",
       "      <td>0.17</td>\n",
       "      <td>8.39</td>\n",
       "      <td>vehroute_28750 tripinfo_28750 routing_28750</td>\n",
       "      <td>239.0</td>\n",
       "      <td>28750</td>\n",
       "      <td>3</td>\n",
       "      <td>2045.97</td>\n",
       "      <td>87.56</td>\n",
       "      <td>DEFAULT_VEHTYPE</td>\n",
       "      <td>NaN</td>\n",
       "      <td>42</td>\n",
       "    </tr>\n",
       "  </tbody>\n",
       "</table>\n",
       "</div>"
      ],
      "text/plain": [
       "   tripinfo_arrival tripinfo_arrivalLane  tripinfo_arrivalPos  \\\n",
       "0             233.0          4260281#0_0                87.14   \n",
       "1             321.0          7970840#0_1                51.59   \n",
       "2             328.0           14963109_2               281.34   \n",
       "3             346.0         -312433747_1                 8.98   \n",
       "4             379.0          4082596#0_1               125.24   \n",
       "\n",
       "   tripinfo_arrivalSpeed  tripinfo_depart  tripinfo_departDelay  \\\n",
       "0                  12.39             72.0                 -0.24   \n",
       "1                   6.15             73.0                 -0.58   \n",
       "2                  16.83             43.0                  1.64   \n",
       "3                   8.84             66.0                  2.82   \n",
       "4                  12.27            140.0                 -0.06   \n",
       "\n",
       "  tripinfo_departLane  tripinfo_departPos  tripinfo_departSpeed  \\\n",
       "0       173215324#0_0                0.17                  0.00   \n",
       "1        -271816292_1                5.10                 13.41   \n",
       "2        -207984743_0                5.10                  4.79   \n",
       "3       -98860766#4_0                5.10                 10.92   \n",
       "4       173215324#0_0                0.17                  8.39   \n",
       "\n",
       "                              tripinfo_devices  tripinfo_duration  \\\n",
       "0  vehroute_28735 tripinfo_28735 routing_28735              161.0   \n",
       "1     vehroute_6170 tripinfo_6170 routing_6170              248.0   \n",
       "2     vehroute_3779 tripinfo_3779 routing_3779              285.0   \n",
       "3     vehroute_1144 tripinfo_1144 routing_1144              280.0   \n",
       "4  vehroute_28750 tripinfo_28750 routing_28750              239.0   \n",
       "\n",
       "   tripinfo_id  tripinfo_rerouteNo  tripinfo_routeLength  tripinfo_timeLoss  \\\n",
       "0        28735                   2               1739.76              31.06   \n",
       "1         6170                   1               2155.28              88.40   \n",
       "2         3779                   2               4071.14              47.14   \n",
       "3         1144                   3               2393.83             115.89   \n",
       "4        28750                   3               2045.97              87.56   \n",
       "\n",
       "    tripinfo_vType  tripinfo_vaporized  tripinfo_waitSteps  \n",
       "0  DEFAULT_VEHTYPE                 NaN                   3  \n",
       "1  DEFAULT_VEHTYPE                 NaN                  53  \n",
       "2  DEFAULT_VEHTYPE                 NaN                  14  \n",
       "3  DEFAULT_VEHTYPE                 NaN                  64  \n",
       "4  DEFAULT_VEHTYPE                 NaN                  42  "
      ]
     },
     "execution_count": 4,
     "metadata": {},
     "output_type": "execute_result"
    }
   ],
   "source": [
    "tdf[:5]"
   ]
  },
  {
   "cell_type": "code",
   "execution_count": 5,
   "metadata": {
    "collapsed": false,
    "deletable": true,
    "editable": true
   },
   "outputs": [
    {
     "data": {
      "text/plain": [
       "30191"
      ]
     },
     "execution_count": 5,
     "metadata": {},
     "output_type": "execute_result"
    }
   ],
   "source": [
    "len(tdf)"
   ]
  },
  {
   "cell_type": "markdown",
   "metadata": {
    "deletable": true,
    "editable": true
   },
   "source": [
    "Let's get trips completed in each half hour"
   ]
  },
  {
   "cell_type": "code",
   "execution_count": 6,
   "metadata": {
    "collapsed": false,
    "deletable": true,
    "editable": true
   },
   "outputs": [],
   "source": [
    "ax1 = tdf.ix[tdf[\"tripinfo_arrival\"] <= 7205,\"tripinfo_arrival\"].hist(bins=4,alpha=0.6)\n",
    "ax1.set_title(\"Trips Completed in each 30 Minutes\")\n",
    "ax1.set_xlabel(\"Time (Seconds)\",fontsize=16)\n",
    "ax1.set_ylabel(\"No. of Completed Trips\",fontsize=16)\n",
    "ax1.grid()\n",
    "ax1.yaxis.grid(True)"
   ]
  },
  {
   "cell_type": "code",
   "execution_count": 7,
   "metadata": {
    "collapsed": true,
    "deletable": true,
    "editable": true
   },
   "outputs": [],
   "source": [
    "plt.savefig(\"hist_trip_completion.pdf\",bbox_inches=\"tight\")"
   ]
  },
  {
   "cell_type": "code",
   "execution_count": 8,
   "metadata": {
    "collapsed": false,
    "deletable": true,
    "editable": true
   },
   "outputs": [
    {
     "data": {
      "image/png": "[encoded data removed]",
      "text/plain": [
       "<matplotlib.figure.Figure at 0xd5f89e8>"
      ]
     },
     "metadata": {},
     "output_type": "display_data"
    }
   ],
   "source": [
    "plt.show()"
   ]
  },
  {
   "cell_type": "markdown",
   "metadata": {
    "deletable": true,
    "editable": true
   },
   "source": [
    "Now let's get distribution of trip duration and add a lognormal to it!"
   ]
  },
  {
   "cell_type": "code",
   "execution_count": 9,
   "metadata": {
    "collapsed": false,
    "deletable": true,
    "editable": true
   },
   "outputs": [],
   "source": [
    "s,loc,scale = st.lognorm.fit(tdf[\"tripinfo_duration\"],loc=0)"
   ]
  },
  {
   "cell_type": "code",
   "execution_count": 10,
   "metadata": {
    "collapsed": false,
    "deletable": true,
    "editable": true
   },
   "outputs": [],
   "source": [
    "#norm1,norm2 = st.norm.fit(tdf[\"tripinfo_duration\"])"
   ]
  },
  {
   "cell_type": "code",
   "execution_count": 11,
   "metadata": {
    "collapsed": false,
    "deletable": true,
    "editable": true
   },
   "outputs": [],
   "source": [
    "#gamma1, gamma2, gamma3 = st.gamma.fit(tdf[\"tripinfo_duration\"])"
   ]
  },
  {
   "cell_type": "code",
   "execution_count": 12,
   "metadata": {
    "collapsed": false,
    "deletable": true,
    "editable": true
   },
   "outputs": [],
   "source": [
    "#beta1, beta2,beta3,beta4 = st.beta.fit(tdf[\"tripinfo_duration\"])"
   ]
  },
  {
   "cell_type": "code",
   "execution_count": 13,
   "metadata": {
    "collapsed": false,
    "deletable": true,
    "editable": true
   },
   "outputs": [],
   "source": [
    "#expon1, expon2  = st.expon.fit(tdf[\"tripinfo_duration\"])"
   ]
  },
  {
   "cell_type": "code",
   "execution_count": 87,
   "metadata": {
    "collapsed": false,
    "deletable": true,
    "editable": true
   },
   "outputs": [
    {
     "data": {
      "text/plain": [
       "<matplotlib.legend.Legend at 0x376f17f0>"
      ]
     },
     "execution_count": 87,
     "metadata": {},
     "output_type": "execute_result"
    }
   ],
   "source": [
    "fig = plt.figure()\n",
    "ax2 = fig.add_subplot(111)\n",
    "x = np.linspace(0,8000,8000)\n",
    "ax2.hist(tdf[\"tripinfo_duration\"],bins=20,normed=True,alpha=0.6)\n",
    "ln = (st.lognorm.pdf(x,s,loc,scale))\n",
    "#nr = st.norm.pdf(x,norm1,norm2)\n",
    "#gm = st.gamma.pdf(x,gamma1,gamma2,gamma3)\n",
    "#bt = st.beta.pdf(x,beta1,beta2,beta3,beta4)\n",
    "#print [round(x,3) for x in ln[:10]]\n",
    "ax2.plot(ln,color=\"r\")\n",
    "#ax.plot(nr,color=\"y\")\n",
    "#ax.plot(gm,color=\"g\")\n",
    "#ax.plot(bt,color=\"m\")\n",
    "ax2.set_xlabel(\"Trip Duration (Seconds)\",fontsize=16)\n",
    "ax2.set_ylabel(\"Probability\",fontsize=16)\n",
    "ax2.set_title(\"Fit of Lognormal Distribution\")\n",
    "ax2.legend(labels=[\"lognormal fit\"])"
   ]
  },
  {
   "cell_type": "code",
   "execution_count": 88,
   "metadata": {
    "collapsed": true,
    "deletable": true,
    "editable": true
   },
   "outputs": [],
   "source": [
    "plt.savefig(\"lognorm_fit_oneshot_100.pdf\",bbox_inches = \"tight\")"
   ]
  },
  {
   "cell_type": "code",
   "execution_count": 89,
   "metadata": {
    "collapsed": false,
    "deletable": true,
    "editable": true,
    "scrolled": true
   },
   "outputs": [
    {
     "data": {
      "image/png": "[encoded data removed]",
      "text/plain": [
       "<matplotlib.figure.Figure at 0x1d300780>"
      ]
     },
     "metadata": {},
     "output_type": "display_data"
    }
   ],
   "source": [
    "plt.show()"
   ]
  },
  {
   "cell_type": "markdown",
   "metadata": {
    "deletable": true,
    "editable": true
   },
   "source": [
    "**Now let's check on queue outputs**"
   ]
  },
  {
   "cell_type": "code",
   "execution_count": 17,
   "metadata": {
    "collapsed": false,
    "deletable": true,
    "editable": true
   },
   "outputs": [],
   "source": [
    "if \"queue_df\" in store:\n",
    "    qdf = store[\"queue_df\"]\n",
    "else:\n",
    "    qdf = pd.read_csv(\"one_queue.csv\",sep=';')\n",
    "    qdf = qdf.dropna()\n",
    "    store[\"queue_df\"] = qdf"
   ]
  },
  {
   "cell_type": "code",
   "execution_count": 18,
   "metadata": {
    "collapsed": false,
    "deletable": true,
    "editable": true
   },
   "outputs": [
    {
     "data": {
      "text/html": [
       "<div>\n",
       "<table border=\"1\" class=\"dataframe\">\n",
       "  <thead>\n",
       "    <tr style=\"text-align: right;\">\n",
       "      <th></th>\n",
       "      <th>lane_queueing_length</th>\n",
       "      <th>lane_queueing_length_experimental</th>\n",
       "      <th>lane_queueing_time</th>\n",
       "    </tr>\n",
       "  </thead>\n",
       "  <tbody>\n",
       "    <tr>\n",
       "      <th>count</th>\n",
       "      <td>8.131256e+06</td>\n",
       "      <td>8.131256e+06</td>\n",
       "      <td>8.131256e+06</td>\n",
       "    </tr>\n",
       "    <tr>\n",
       "      <th>mean</th>\n",
       "      <td>1.319198e+01</td>\n",
       "      <td>1.497476e+01</td>\n",
       "      <td>2.093157e+01</td>\n",
       "    </tr>\n",
       "    <tr>\n",
       "      <th>std</th>\n",
       "      <td>1.606208e+01</td>\n",
       "      <td>1.632953e+01</td>\n",
       "      <td>3.334948e+01</td>\n",
       "    </tr>\n",
       "    <tr>\n",
       "      <th>min</th>\n",
       "      <td>0.000000e+00</td>\n",
       "      <td>0.000000e+00</td>\n",
       "      <td>0.000000e+00</td>\n",
       "    </tr>\n",
       "    <tr>\n",
       "      <th>25%</th>\n",
       "      <td>6.000000e+00</td>\n",
       "      <td>6.000000e+00</td>\n",
       "      <td>4.000000e+00</td>\n",
       "    </tr>\n",
       "    <tr>\n",
       "      <th>50%</th>\n",
       "      <td>6.000000e+00</td>\n",
       "      <td>6.190000e+00</td>\n",
       "      <td>1.200000e+01</td>\n",
       "    </tr>\n",
       "    <tr>\n",
       "      <th>75%</th>\n",
       "      <td>1.351000e+01</td>\n",
       "      <td>2.010000e+01</td>\n",
       "      <td>2.600000e+01</td>\n",
       "    </tr>\n",
       "    <tr>\n",
       "      <th>max</th>\n",
       "      <td>4.711600e+02</td>\n",
       "      <td>4.754900e+02</td>\n",
       "      <td>7.050000e+02</td>\n",
       "    </tr>\n",
       "  </tbody>\n",
       "</table>\n",
       "</div>"
      ],
      "text/plain": [
       "       lane_queueing_length  lane_queueing_length_experimental  \\\n",
       "count          8.131256e+06                       8.131256e+06   \n",
       "mean           1.319198e+01                       1.497476e+01   \n",
       "std            1.606208e+01                       1.632953e+01   \n",
       "min            0.000000e+00                       0.000000e+00   \n",
       "25%            6.000000e+00                       6.000000e+00   \n",
       "50%            6.000000e+00                       6.190000e+00   \n",
       "75%            1.351000e+01                       2.010000e+01   \n",
       "max            4.711600e+02                       4.754900e+02   \n",
       "\n",
       "       lane_queueing_time  \n",
       "count        8.131256e+06  \n",
       "mean         2.093157e+01  \n",
       "std          3.334948e+01  \n",
       "min          0.000000e+00  \n",
       "25%          4.000000e+00  \n",
       "50%          1.200000e+01  \n",
       "75%          2.600000e+01  \n",
       "max          7.050000e+02  "
      ]
     },
     "execution_count": 18,
     "metadata": {},
     "output_type": "execute_result"
    }
   ],
   "source": [
    "qdf[qdf.columns[2:]].describe()"
   ]
  },
  {
   "cell_type": "code",
   "execution_count": 19,
   "metadata": {
    "collapsed": false,
    "deletable": true,
    "editable": true
   },
   "outputs": [
    {
     "data": {
      "text/html": [
       "<div>\n",
       "<table border=\"1\" class=\"dataframe\">\n",
       "  <thead>\n",
       "    <tr style=\"text-align: right;\">\n",
       "      <th></th>\n",
       "      <th>data_timestep</th>\n",
       "      <th>lane_id</th>\n",
       "      <th>lane_queueing_length</th>\n",
       "      <th>lane_queueing_length_experimental</th>\n",
       "      <th>lane_queueing_time</th>\n",
       "    </tr>\n",
       "  </thead>\n",
       "  <tbody>\n",
       "    <tr>\n",
       "      <th>3</th>\n",
       "      <td>3.0</td>\n",
       "      <td>-312433747_1</td>\n",
       "      <td>5.77</td>\n",
       "      <td>5.77</td>\n",
       "      <td>1.0</td>\n",
       "    </tr>\n",
       "    <tr>\n",
       "      <th>4</th>\n",
       "      <td>4.0</td>\n",
       "      <td>-312433747_1</td>\n",
       "      <td>5.77</td>\n",
       "      <td>5.77</td>\n",
       "      <td>2.0</td>\n",
       "    </tr>\n",
       "    <tr>\n",
       "      <th>5</th>\n",
       "      <td>4.0</td>\n",
       "      <td>-34150587_0</td>\n",
       "      <td>0.00</td>\n",
       "      <td>14.35</td>\n",
       "      <td>0.0</td>\n",
       "    </tr>\n",
       "  </tbody>\n",
       "</table>\n",
       "</div>"
      ],
      "text/plain": [
       "   data_timestep       lane_id  lane_queueing_length  \\\n",
       "3            3.0  -312433747_1                  5.77   \n",
       "4            4.0  -312433747_1                  5.77   \n",
       "5            4.0   -34150587_0                  0.00   \n",
       "\n",
       "   lane_queueing_length_experimental  lane_queueing_time  \n",
       "3                               5.77                 1.0  \n",
       "4                               5.77                 2.0  \n",
       "5                              14.35                 0.0  "
      ]
     },
     "execution_count": 19,
     "metadata": {},
     "output_type": "execute_result"
    }
   ],
   "source": [
    "qdf[:3]"
   ]
  },
  {
   "cell_type": "code",
   "execution_count": 20,
   "metadata": {
    "collapsed": false,
    "deletable": true,
    "editable": true
   },
   "outputs": [],
   "source": [
    "qdf = qdf[~ qdf[\"lane_id\"].str.contains(\":\")]"
   ]
  },
  {
   "cell_type": "code",
   "execution_count": 21,
   "metadata": {
    "collapsed": false,
    "deletable": true,
    "editable": true
   },
   "outputs": [],
   "source": [
    "qdf = qdf[qdf[\"data_timestep\"] < 7205]"
   ]
  },
  {
   "cell_type": "code",
   "execution_count": 22,
   "metadata": {
    "collapsed": false,
    "deletable": true,
    "editable": true
   },
   "outputs": [],
   "source": [
    "lane_mean_qdf = qdf[qdf.columns[1:]].groupby(\"lane_id\").mean()"
   ]
  },
  {
   "cell_type": "code",
   "execution_count": 23,
   "metadata": {
    "collapsed": false,
    "deletable": true,
    "editable": true
   },
   "outputs": [
    {
     "data": {
      "text/html": [
       "<div>\n",
       "<table border=\"1\" class=\"dataframe\">\n",
       "  <thead>\n",
       "    <tr style=\"text-align: right;\">\n",
       "      <th></th>\n",
       "      <th>lane_queueing_length</th>\n",
       "      <th>lane_queueing_length_experimental</th>\n",
       "      <th>lane_queueing_time</th>\n",
       "    </tr>\n",
       "    <tr>\n",
       "      <th>lane_id</th>\n",
       "      <th></th>\n",
       "      <th></th>\n",
       "      <th></th>\n",
       "    </tr>\n",
       "  </thead>\n",
       "  <tbody>\n",
       "    <tr>\n",
       "      <th>-100076118#0_0</th>\n",
       "      <td>10.530052</td>\n",
       "      <td>11.914767</td>\n",
       "      <td>11.279793</td>\n",
       "    </tr>\n",
       "    <tr>\n",
       "      <th>-100306119_0</th>\n",
       "      <td>0.000000</td>\n",
       "      <td>5.230000</td>\n",
       "      <td>0.000000</td>\n",
       "    </tr>\n",
       "    <tr>\n",
       "      <th>-100514383#2_0</th>\n",
       "      <td>3.687273</td>\n",
       "      <td>7.565909</td>\n",
       "      <td>1.090909</td>\n",
       "    </tr>\n",
       "  </tbody>\n",
       "</table>\n",
       "</div>"
      ],
      "text/plain": [
       "                lane_queueing_length  lane_queueing_length_experimental  \\\n",
       "lane_id                                                                   \n",
       "-100076118#0_0             10.530052                          11.914767   \n",
       "-100306119_0                0.000000                           5.230000   \n",
       "-100514383#2_0              3.687273                           7.565909   \n",
       "\n",
       "                lane_queueing_time  \n",
       "lane_id                             \n",
       "-100076118#0_0           11.279793  \n",
       "-100306119_0              0.000000  \n",
       "-100514383#2_0            1.090909  "
      ]
     },
     "execution_count": 23,
     "metadata": {},
     "output_type": "execute_result"
    }
   ],
   "source": [
    "lane_mean_qdf[:3]"
   ]
  },
  {
   "cell_type": "code",
   "execution_count": 24,
   "metadata": {
    "collapsed": true,
    "deletable": true,
    "editable": true
   },
   "outputs": [],
   "source": [
    "#import seaborn as sns"
   ]
  },
  {
   "cell_type": "code",
   "execution_count": 25,
   "metadata": {
    "collapsed": false,
    "deletable": true,
    "editable": true
   },
   "outputs": [],
   "source": [
    "#jp = sns.jointplot(x=\"data_timestep\", y=\"lane_queueing_length\", data=qdf, kind=\"kde\", color=\"m\")"
   ]
  },
  {
   "cell_type": "code",
   "execution_count": 26,
   "metadata": {
    "collapsed": true,
    "deletable": true,
    "editable": true
   },
   "outputs": [],
   "source": [
    "def cdf_plot(ser,ax=None,figsize=None, label=None):\n",
    "    ser = ser.sort_values()\n",
    "    cum_dist = np.linspace(0.,1.,len(ser))\n",
    "    ser_cdf = pd.Series(cum_dist, index=ser)\n",
    "    return ser_cdf.plot(drawstyle='steps',figsize=figsize,yticks=np.arange(0.,1.001,0.1),ax=ax, label=label)"
   ]
  },
  {
   "cell_type": "code",
   "execution_count": 27,
   "metadata": {
    "collapsed": false,
    "deletable": true,
    "editable": true
   },
   "outputs": [],
   "source": [
    "#sns.reset_orig()"
   ]
  },
  {
   "cell_type": "code",
   "execution_count": 28,
   "metadata": {
    "collapsed": true,
    "deletable": true,
    "editable": true
   },
   "outputs": [],
   "source": [
    "camerasdf = pd.read_csv(\"london_100_cameras_with_closest_edge.csv\")"
   ]
  },
  {
   "cell_type": "code",
   "execution_count": 29,
   "metadata": {
    "collapsed": true,
    "deletable": true,
    "editable": true
   },
   "outputs": [],
   "source": [
    "camera_close_edgesdf =(pd.concat([camerasdf[\"CLOSEST_EDGE_1\"],camerasdf[\"CLOSEST_EDGE_2\"],camerasdf[\"CLOSEST_EDGE_3\"]]).drop_duplicates())"
   ]
  },
  {
   "cell_type": "code",
   "execution_count": 30,
   "metadata": {
    "collapsed": true,
    "deletable": true,
    "editable": true
   },
   "outputs": [],
   "source": [
    "qdf[\"edge_id\"] =qdf[\"lane_id\"].str.replace(\"_[0-9]$\",\"\")"
   ]
  },
  {
   "cell_type": "code",
   "execution_count": 31,
   "metadata": {
    "collapsed": true,
    "deletable": true,
    "editable": true
   },
   "outputs": [],
   "source": [
    "qdf_cameras = qdf.merge(camera_close_edgesdf.to_frame(\"edge_id\"))"
   ]
  },
  {
   "cell_type": "code",
   "execution_count": 32,
   "metadata": {
    "collapsed": false,
    "deletable": true,
    "editable": true
   },
   "outputs": [],
   "source": [
    "lane_mean_qdf_cameras = qdf_cameras[qdf_cameras.columns[1:]].groupby(\"lane_id\").mean() "
   ]
  },
  {
   "cell_type": "code",
   "execution_count": 33,
   "metadata": {
    "collapsed": true,
    "deletable": true,
    "editable": true
   },
   "outputs": [],
   "source": [
    "ax3 = cdf_plot(lane_mean_qdf[\"lane_queueing_length\"])"
   ]
  },
  {
   "cell_type": "code",
   "execution_count": 34,
   "metadata": {
    "collapsed": false,
    "deletable": true,
    "editable": true
   },
   "outputs": [
    {
     "data": {
      "text/plain": [
       "<matplotlib.axes._subplots.AxesSubplot at 0x34fb0588>"
      ]
     },
     "execution_count": 34,
     "metadata": {},
     "output_type": "execute_result"
    }
   ],
   "source": [
    "cdf_plot(lane_mean_qdf_cameras[\"lane_queueing_length\"],ax=ax3)"
   ]
  },
  {
   "cell_type": "code",
   "execution_count": 35,
   "metadata": {
    "collapsed": false,
    "deletable": true,
    "editable": true
   },
   "outputs": [],
   "source": [
    "ax3.set_xlim(0,50)\n",
    "ax3.set_xlabel(\"Queue Length (Meters)\",fontsize=16)\n",
    "ax3.set_ylabel(\"CDF\",fontsize=16)\n",
    "ax3.set_title(\"CDF of Average Queue Length\")\n",
    "ax3.legend(labels=[\"Overall\",\"Near Cameras\"],loc=\"best\")\n",
    "ax3.grid()"
   ]
  },
  {
   "cell_type": "code",
   "execution_count": 36,
   "metadata": {
    "collapsed": true,
    "deletable": true,
    "editable": true
   },
   "outputs": [],
   "source": [
    "plt.savefig(\"cdf_avg_queue_len.pdf\",bbox_inches=\"tight\")"
   ]
  },
  {
   "cell_type": "code",
   "execution_count": 37,
   "metadata": {
    "collapsed": false,
    "deletable": true,
    "editable": true
   },
   "outputs": [
    {
     "data": {
      "image/png": "[encoded data removed]",
      "text/plain": [
       "<matplotlib.figure.Figure at 0xdac16a0>"
      ]
     },
     "metadata": {},
     "output_type": "display_data"
    }
   ],
   "source": [
    "plt.show()"
   ]
  },
  {
   "cell_type": "code",
   "execution_count": 38,
   "metadata": {
    "collapsed": true,
    "deletable": true,
    "editable": true
   },
   "outputs": [],
   "source": [
    "ax4 = cdf_plot(lane_mean_qdf[\"lane_queueing_time\"])"
   ]
  },
  {
   "cell_type": "code",
   "execution_count": 39,
   "metadata": {
    "collapsed": false,
    "deletable": true,
    "editable": true
   },
   "outputs": [
    {
     "data": {
      "text/plain": [
       "<matplotlib.axes._subplots.AxesSubplot at 0xdd08160>"
      ]
     },
     "execution_count": 39,
     "metadata": {},
     "output_type": "execute_result"
    }
   ],
   "source": [
    "cdf_plot(lane_mean_qdf_cameras[\"lane_queueing_time\"],ax=ax4)"
   ]
  },
  {
   "cell_type": "code",
   "execution_count": 40,
   "metadata": {
    "collapsed": true,
    "deletable": true,
    "editable": true
   },
   "outputs": [],
   "source": [
    "ax4.set_xlim(0,50)\n",
    "ax4.set_xlabel(\"Queue Time (Seconds)\",fontsize=16)\n",
    "ax4.set_ylabel(\"CDF\",fontsize=16)\n",
    "ax4.set_title(\"CDF of Average Queue Time\")\n",
    "ax4.legend(labels=[\"Overall\",\"Near Cameras\"],loc=\"best\")\n",
    "ax4.grid()"
   ]
  },
  {
   "cell_type": "code",
   "execution_count": 41,
   "metadata": {
    "collapsed": true,
    "deletable": true,
    "editable": true
   },
   "outputs": [],
   "source": [
    "plt.savefig(\"cdf_avg_queue_time.pdf\",bbox_inches=\"tight\")"
   ]
  },
  {
   "cell_type": "code",
   "execution_count": 42,
   "metadata": {
    "collapsed": false,
    "deletable": true,
    "editable": true
   },
   "outputs": [
    {
     "data": {
      "image/png": "[encoded data removed]",
      "text/plain": [
       "<matplotlib.figure.Figure at 0x361d1d68>"
      ]
     },
     "metadata": {},
     "output_type": "display_data"
    }
   ],
   "source": [
    "plt.show()"
   ]
  },
  {
   "cell_type": "markdown",
   "metadata": {
    "deletable": true,
    "editable": true
   },
   "source": [
    "(NOT DOING IT NOW) We can also get the best fit results for distribution of length of the queue."
   ]
  },
  {
   "cell_type": "code",
   "execution_count": 43,
   "metadata": {
    "collapsed": true,
    "deletable": true,
    "editable": true
   },
   "outputs": [],
   "source": [
    "def analyze_best_fit(lane_groups):\n",
    "    distributions = [st.expon, st.norm,st.gamma,st.weibull_max,st.weibull_min,st.logistic,st.beta]\n",
    "    def get_best_fits(data):\n",
    "        mles = []\n",
    "        for distribution in distributions:\n",
    "            pars = distribution.fit(data)\n",
    "            mle = distribution.nnlf(pars, data)\n",
    "            mles.append(mle)\n",
    "        temp = sorted(zip(distributions, mles), key=lambda d: d[1])\n",
    "        return [name ,temp[0][0].name,temp[1][0].name,temp[2][0].name,temp[3][0].name,temp[4][0].name]\n",
    "\n",
    "    best_fits = []\n",
    "    for name,group in lane_groups:\n",
    "        best_fits.append(get_best_fits(group[\"lane_queueing_length\"]))\n",
    "    return best_fits"
   ]
  },
  {
   "cell_type": "markdown",
   "metadata": {
    "deletable": true,
    "editable": true
   },
   "source": [
    "** Now let's have a look at egde info output dump**\n",
    "\n",
    "\n",
    "http://sumo.dlr.de/wiki/Simulation/Output/Lane-_or_Edge-based_Traffic_Measures"
   ]
  },
  {
   "cell_type": "code",
   "execution_count": null,
   "metadata": {
    "collapsed": true,
    "deletable": true,
    "editable": true
   },
   "outputs": [],
   "source": []
  },
  {
   "cell_type": "code",
   "execution_count": 44,
   "metadata": {
    "collapsed": false,
    "deletable": true,
    "editable": true
   },
   "outputs": [],
   "source": [
    "if \"edge_df\" in store:\n",
    "    edf = store[\"edge_df\"]\n",
    "else:\n",
    "    edf = pd.read_csv(\"one_edgeinfo.csv\",sep=';')\n",
    "    edf = edf.dropna()\n",
    "    store[\"edge_df\"] = edf"
   ]
  },
  {
   "cell_type": "code",
   "execution_count": 45,
   "metadata": {
    "collapsed": false,
    "deletable": true,
    "editable": true
   },
   "outputs": [
    {
     "data": {
      "text/plain": [
       "77376"
      ]
     },
     "execution_count": 45,
     "metadata": {},
     "output_type": "execute_result"
    }
   ],
   "source": [
    "len(edf.groupby(\"edge_id\"))"
   ]
  },
  {
   "cell_type": "code",
   "execution_count": 46,
   "metadata": {
    "collapsed": false,
    "deletable": true,
    "editable": true
   },
   "outputs": [
    {
     "data": {
      "text/html": [
       "<div>\n",
       "<table border=\"1\" class=\"dataframe\">\n",
       "  <thead>\n",
       "    <tr style=\"text-align: right;\">\n",
       "      <th></th>\n",
       "      <th>interval_begin</th>\n",
       "      <th>interval_end</th>\n",
       "      <th>interval_id</th>\n",
       "      <th>edge_arrived</th>\n",
       "      <th>edge_density</th>\n",
       "      <th>edge_departed</th>\n",
       "      <th>edge_entered</th>\n",
       "      <th>edge_id</th>\n",
       "      <th>edge_laneChangedFrom</th>\n",
       "      <th>edge_laneChangedTo</th>\n",
       "      <th>edge_left</th>\n",
       "      <th>edge_occupancy</th>\n",
       "      <th>edge_overlapTraveltime</th>\n",
       "      <th>edge_sampledSeconds</th>\n",
       "      <th>edge_speed</th>\n",
       "      <th>edge_traveltime</th>\n",
       "      <th>edge_waitingTime</th>\n",
       "    </tr>\n",
       "  </thead>\n",
       "  <tbody>\n",
       "    <tr>\n",
       "      <th>0</th>\n",
       "      <td>0.0</td>\n",
       "      <td>60.0</td>\n",
       "      <td>dump_60_60</td>\n",
       "      <td>0</td>\n",
       "      <td>1.57</td>\n",
       "      <td>0</td>\n",
       "      <td>1</td>\n",
       "      <td>-101178818</td>\n",
       "      <td>0</td>\n",
       "      <td>0</td>\n",
       "      <td>1</td>\n",
       "      <td>0.39</td>\n",
       "      <td>7.94</td>\n",
       "      <td>7.94</td>\n",
       "      <td>11.27</td>\n",
       "      <td>7.07</td>\n",
       "      <td>0.0</td>\n",
       "    </tr>\n",
       "    <tr>\n",
       "      <th>1</th>\n",
       "      <td>0.0</td>\n",
       "      <td>60.0</td>\n",
       "      <td>dump_60_60</td>\n",
       "      <td>0</td>\n",
       "      <td>3.45</td>\n",
       "      <td>0</td>\n",
       "      <td>1</td>\n",
       "      <td>-101178824</td>\n",
       "      <td>0</td>\n",
       "      <td>0</td>\n",
       "      <td>1</td>\n",
       "      <td>0.86</td>\n",
       "      <td>0.99</td>\n",
       "      <td>0.99</td>\n",
       "      <td>9.85</td>\n",
       "      <td>0.50</td>\n",
       "      <td>0.0</td>\n",
       "    </tr>\n",
       "    <tr>\n",
       "      <th>2</th>\n",
       "      <td>0.0</td>\n",
       "      <td>60.0</td>\n",
       "      <td>dump_60_60</td>\n",
       "      <td>0</td>\n",
       "      <td>10.48</td>\n",
       "      <td>4</td>\n",
       "      <td>0</td>\n",
       "      <td>-10494986</td>\n",
       "      <td>4</td>\n",
       "      <td>4</td>\n",
       "      <td>4</td>\n",
       "      <td>2.62</td>\n",
       "      <td>3.85</td>\n",
       "      <td>12.20</td>\n",
       "      <td>6.33</td>\n",
       "      <td>3.00</td>\n",
       "      <td>0.0</td>\n",
       "    </tr>\n",
       "    <tr>\n",
       "      <th>3</th>\n",
       "      <td>0.0</td>\n",
       "      <td>60.0</td>\n",
       "      <td>dump_60_60</td>\n",
       "      <td>0</td>\n",
       "      <td>4.19</td>\n",
       "      <td>0</td>\n",
       "      <td>1</td>\n",
       "      <td>-11196974#1</td>\n",
       "      <td>0</td>\n",
       "      <td>0</td>\n",
       "      <td>1</td>\n",
       "      <td>2.09</td>\n",
       "      <td>2.33</td>\n",
       "      <td>2.33</td>\n",
       "      <td>6.12</td>\n",
       "      <td>1.54</td>\n",
       "      <td>0.0</td>\n",
       "    </tr>\n",
       "    <tr>\n",
       "      <th>4</th>\n",
       "      <td>0.0</td>\n",
       "      <td>60.0</td>\n",
       "      <td>dump_60_60</td>\n",
       "      <td>0</td>\n",
       "      <td>2.81</td>\n",
       "      <td>0</td>\n",
       "      <td>3</td>\n",
       "      <td>-11196974#2</td>\n",
       "      <td>0</td>\n",
       "      <td>0</td>\n",
       "      <td>2</td>\n",
       "      <td>1.40</td>\n",
       "      <td>8.21</td>\n",
       "      <td>17.00</td>\n",
       "      <td>12.89</td>\n",
       "      <td>7.80</td>\n",
       "      <td>0.0</td>\n",
       "    </tr>\n",
       "  </tbody>\n",
       "</table>\n",
       "</div>"
      ],
      "text/plain": [
       "   interval_begin  interval_end interval_id  edge_arrived  edge_density  \\\n",
       "0             0.0          60.0  dump_60_60             0          1.57   \n",
       "1             0.0          60.0  dump_60_60             0          3.45   \n",
       "2             0.0          60.0  dump_60_60             0         10.48   \n",
       "3             0.0          60.0  dump_60_60             0          4.19   \n",
       "4             0.0          60.0  dump_60_60             0          2.81   \n",
       "\n",
       "   edge_departed  edge_entered      edge_id  edge_laneChangedFrom  \\\n",
       "0              0             1   -101178818                     0   \n",
       "1              0             1   -101178824                     0   \n",
       "2              4             0    -10494986                     4   \n",
       "3              0             1  -11196974#1                     0   \n",
       "4              0             3  -11196974#2                     0   \n",
       "\n",
       "   edge_laneChangedTo  edge_left  edge_occupancy  edge_overlapTraveltime  \\\n",
       "0                   0          1            0.39                    7.94   \n",
       "1                   0          1            0.86                    0.99   \n",
       "2                   4          4            2.62                    3.85   \n",
       "3                   0          1            2.09                    2.33   \n",
       "4                   0          2            1.40                    8.21   \n",
       "\n",
       "   edge_sampledSeconds  edge_speed  edge_traveltime  edge_waitingTime  \n",
       "0                 7.94       11.27             7.07               0.0  \n",
       "1                 0.99        9.85             0.50               0.0  \n",
       "2                12.20        6.33             3.00               0.0  \n",
       "3                 2.33        6.12             1.54               0.0  \n",
       "4                17.00       12.89             7.80               0.0  "
      ]
     },
     "execution_count": 46,
     "metadata": {},
     "output_type": "execute_result"
    }
   ],
   "source": [
    "edf[:5]"
   ]
  },
  {
   "cell_type": "code",
   "execution_count": 90,
   "metadata": {
    "collapsed": false,
    "deletable": true,
    "editable": true
   },
   "outputs": [],
   "source": [
    "ax5 = edf[\"edge_speed\"].hist(bins=10,alpha=0.6)"
   ]
  },
  {
   "cell_type": "code",
   "execution_count": 91,
   "metadata": {
    "collapsed": true,
    "deletable": true,
    "editable": true
   },
   "outputs": [],
   "source": [
    "ax5.set_ylabel(\"Frequency\",fontsize=16)\n",
    "ax5.set_xlabel(\"Speed (Meters/S)\",fontsize=16)\n",
    "ax5.set_title(\"Histogram of speed distribution\")\n",
    "ax5.grid()"
   ]
  },
  {
   "cell_type": "code",
   "execution_count": 92,
   "metadata": {
    "collapsed": false,
    "deletable": true,
    "editable": true
   },
   "outputs": [
    {
     "data": {
      "image/png": "[encoded data removed]",
      "text/plain": [
       "<matplotlib.figure.Figure at 0x6c8f6518>"
      ]
     },
     "metadata": {},
     "output_type": "display_data"
    }
   ],
   "source": [
    "plt.savefig(\"hist_speed.pdf\",bbox_inches=\"tight\")\n",
    "plt.show()"
   ]
  },
  {
   "cell_type": "code",
   "execution_count": 50,
   "metadata": {
    "collapsed": true,
    "deletable": true,
    "editable": true
   },
   "outputs": [],
   "source": [
    "#import sumolib"
   ]
  },
  {
   "cell_type": "code",
   "execution_count": 51,
   "metadata": {
    "collapsed": false,
    "deletable": true,
    "editable": true
   },
   "outputs": [],
   "source": [
    "#mynet = sumolib.net.readNet(r\"C:\\Users\\Roozbeh\\Sumo\\London\\london.net.xml\")"
   ]
  },
  {
   "cell_type": "code",
   "execution_count": 52,
   "metadata": {
    "collapsed": false,
    "deletable": true,
    "editable": true
   },
   "outputs": [],
   "source": [
    "#len(mynet.getEdges())"
   ]
  },
  {
   "cell_type": "code",
   "execution_count": null,
   "metadata": {
    "collapsed": false,
    "deletable": true,
    "editable": true
   },
   "outputs": [],
   "source": []
  },
  {
   "cell_type": "code",
   "execution_count": 53,
   "metadata": {
    "collapsed": false,
    "deletable": true,
    "editable": true
   },
   "outputs": [],
   "source": [
    "edf_cameras = edf.merge(camera_close_edgesdf.to_frame(\"edge_id\"),on=\"edge_id\")"
   ]
  },
  {
   "cell_type": "code",
   "execution_count": null,
   "metadata": {
    "collapsed": true,
    "deletable": true,
    "editable": true
   },
   "outputs": [],
   "source": []
  },
  {
   "cell_type": "markdown",
   "metadata": {
    "deletable": true,
    "editable": true
   },
   "source": [
    "**REMEMBER TO USE THIS**\n",
    "Average number of vehicles on the edge (#) = sampledSeconds / period"
   ]
  },
  {
   "cell_type": "code",
   "execution_count": 54,
   "metadata": {
    "collapsed": false,
    "deletable": true,
    "editable": true
   },
   "outputs": [],
   "source": [
    "edf[\"edge_density\"] = edf[\"edge_density\"].astype(str).str.extract( \"([0-9\\.]+)\" ,expand=False).astype(np.float)"
   ]
  },
  {
   "cell_type": "code",
   "execution_count": 55,
   "metadata": {
    "collapsed": false,
    "deletable": true,
    "editable": true
   },
   "outputs": [],
   "source": [
    "#assuming 2meters for length of  car it doesn't make much sense to have more than 500 cars in a km!\n",
    "#edf = edf[edf[\"edge_density\"] <= 500]\n",
    "#edf_cameras = edf_cameras[edf_cameras[\"edge_density\"]<=500]"
   ]
  },
  {
   "cell_type": "code",
   "execution_count": 56,
   "metadata": {
    "collapsed": true,
    "deletable": true,
    "editable": true
   },
   "outputs": [],
   "source": [
    "ax6 = cdf_plot(edf[\"edge_density\"])"
   ]
  },
  {
   "cell_type": "code",
   "execution_count": 57,
   "metadata": {
    "collapsed": false,
    "deletable": true,
    "editable": true
   },
   "outputs": [
    {
     "data": {
      "text/plain": [
       "<matplotlib.axes._subplots.AxesSubplot at 0x2e4daf60>"
      ]
     },
     "execution_count": 57,
     "metadata": {},
     "output_type": "execute_result"
    }
   ],
   "source": [
    "cdf_plot(edf_cameras[\"edge_density\"],ax=ax6)"
   ]
  },
  {
   "cell_type": "code",
   "execution_count": 58,
   "metadata": {
    "collapsed": false,
    "deletable": true,
    "editable": true
   },
   "outputs": [],
   "source": [
    "ax6.set_xlim((0,100))\n",
    "ax6.set_xlabel(\"Edge Density (Veh/KM)\",fontsize=16)\n",
    "ax6.set_ylabel(\"CDF\",fontsize=16)\n",
    "ax6.set_title(\"CDF of Overall Edge Densities\")\n",
    "ax6.legend(labels=[\"Overall\",\"Near Cameras\"],loc=\"best\")\n",
    "ax6.grid()"
   ]
  },
  {
   "cell_type": "code",
   "execution_count": 59,
   "metadata": {
    "collapsed": true,
    "deletable": true,
    "editable": true
   },
   "outputs": [],
   "source": [
    "plt.savefig(\"cdf_edge_density.pdf\",bbox_inches=\"tight\")"
   ]
  },
  {
   "cell_type": "code",
   "execution_count": 60,
   "metadata": {
    "collapsed": false,
    "deletable": true,
    "editable": true
   },
   "outputs": [
    {
     "data": {
      "image/png": "[encoded data removed]",
      "text/plain": [
       "<matplotlib.figure.Figure at 0x2e473198>"
      ]
     },
     "metadata": {},
     "output_type": "display_data"
    }
   ],
   "source": [
    "plt.show()"
   ]
  },
  {
   "cell_type": "code",
   "execution_count": 61,
   "metadata": {
    "collapsed": false,
    "deletable": true,
    "editable": true
   },
   "outputs": [],
   "source": [
    "#edf[\"edge_occupancy\"] = edf[\"edge_occupancy\"].astype(str).str.extract( \"([0-9\\.]+)\" ,expand=False).astype(np.float)"
   ]
  },
  {
   "cell_type": "code",
   "execution_count": 62,
   "metadata": {
    "collapsed": false,
    "deletable": true,
    "editable": true
   },
   "outputs": [],
   "source": [
    "#ax7 = cdf_plot(edf[\"edge_occupancy\"])"
   ]
  },
  {
   "cell_type": "code",
   "execution_count": 63,
   "metadata": {
    "collapsed": false,
    "deletable": true,
    "editable": true
   },
   "outputs": [],
   "source": [
    "#ax7.set_xlim((0,100))\n",
    "#ax7.set_xlabel(\"Edge Occupancy (%)\",fontsize=16)\n",
    "#ax7.set_ylabel(\"CDF\",fontsize=16)\n",
    "#ax7.set_title(\"CDF of Overal Edge Occupancies\")\n",
    "#ax7.grid()"
   ]
  },
  {
   "cell_type": "code",
   "execution_count": 64,
   "metadata": {
    "collapsed": true,
    "deletable": true,
    "editable": true
   },
   "outputs": [],
   "source": [
    "#plt.savefig(\"cdf_edge_occ.pdf\",bbox_inches=\"tight\")"
   ]
  },
  {
   "cell_type": "code",
   "execution_count": 65,
   "metadata": {
    "collapsed": false,
    "deletable": true,
    "editable": true
   },
   "outputs": [],
   "source": [
    "#plt.show()"
   ]
  },
  {
   "cell_type": "code",
   "execution_count": 66,
   "metadata": {
    "collapsed": false,
    "deletable": true,
    "editable": true
   },
   "outputs": [],
   "source": [
    "edf[\"car_count\"] = edf[\"edge_entered\"] + edf[\"edge_departed\"] + edf[\"edge_laneChangedTo\"]"
   ]
  },
  {
   "cell_type": "code",
   "execution_count": 67,
   "metadata": {
    "collapsed": true,
    "deletable": true,
    "editable": true
   },
   "outputs": [],
   "source": [
    "edf_cameras[\"car_count\"] = edf_cameras[\"edge_entered\"] + edf_cameras[\"edge_departed\"] + edf_cameras[\"edge_laneChangedTo\"]"
   ]
  },
  {
   "cell_type": "code",
   "execution_count": 68,
   "metadata": {
    "collapsed": false,
    "deletable": true,
    "editable": true
   },
   "outputs": [
    {
     "data": {
      "text/plain": [
       "<matplotlib.axes._subplots.AxesSubplot at 0x6d250320>"
      ]
     },
     "execution_count": 68,
     "metadata": {},
     "output_type": "execute_result"
    }
   ],
   "source": [
    "edf.ix[(edf[\"car_count\"]<40) & (edf[\"car_count\"]!=0),\"car_count\"].hist(bins=20)"
   ]
  },
  {
   "cell_type": "code",
   "execution_count": 69,
   "metadata": {
    "collapsed": false,
    "deletable": true,
    "editable": true
   },
   "outputs": [
    {
     "data": {
      "image/png": "[encoded data removed]",
      "text/plain": [
       "<matplotlib.figure.Figure at 0x3628d518>"
      ]
     },
     "metadata": {},
     "output_type": "display_data"
    }
   ],
   "source": [
    "plt.show()"
   ]
  },
  {
   "cell_type": "code",
   "execution_count": 103,
   "metadata": {
    "collapsed": false,
    "deletable": true,
    "editable": true
   },
   "outputs": [],
   "source": [
    "ax8 = cdf_plot(edf[\"car_count\"])"
   ]
  },
  {
   "cell_type": "code",
   "execution_count": 104,
   "metadata": {
    "collapsed": false,
    "deletable": true,
    "editable": true
   },
   "outputs": [
    {
     "data": {
      "text/plain": [
       "<matplotlib.axes._subplots.AxesSubplot at 0xe27f9b0>"
      ]
     },
     "execution_count": 104,
     "metadata": {},
     "output_type": "execute_result"
    }
   ],
   "source": [
    "cdf_plot(edf_cameras[\"car_count\"],ax=ax8)"
   ]
  },
  {
   "cell_type": "code",
   "execution_count": 105,
   "metadata": {
    "collapsed": false,
    "deletable": true,
    "editable": true
   },
   "outputs": [],
   "source": [
    "ax8.set_xlabel(\"No. of Vehicles in a Minute\",fontsize=16)\n",
    "ax8.set_ylabel(\"CDF\",fontsize=16)\n",
    "ax8.set_title(\"CDF of overall per minute vehicles\")\n",
    "ax8.legend(labels=[\"Overall\",\"Near Cameras\"],loc=\"lower right\")\n",
    "ax8.grid()"
   ]
  },
  {
   "cell_type": "code",
   "execution_count": 106,
   "metadata": {
    "collapsed": true,
    "deletable": true,
    "editable": true
   },
   "outputs": [],
   "source": [
    "plt.savefig(\"cdf_car_count.pdf\",bbox_inches=\"tight\")"
   ]
  },
  {
   "cell_type": "code",
   "execution_count": 107,
   "metadata": {
    "collapsed": false,
    "deletable": true,
    "editable": true
   },
   "outputs": [
    {
     "data": {
      "image/png": "[encoded data removed]",
      "text/plain": [
       "<matplotlib.figure.Figure at 0x314731d0>"
      ]
     },
     "metadata": {},
     "output_type": "display_data"
    }
   ],
   "source": [
    "plt.show()"
   ]
  },
  {
   "cell_type": "code",
   "execution_count": 75,
   "metadata": {
    "collapsed": true,
    "deletable": true,
    "editable": true
   },
   "outputs": [],
   "source": [
    "import seaborn as sns"
   ]
  },
  {
   "cell_type": "code",
   "execution_count": 76,
   "metadata": {
    "collapsed": true,
    "deletable": true,
    "editable": true
   },
   "outputs": [],
   "source": [
    "sns.reset_orig()"
   ]
  },
  {
   "cell_type": "code",
   "execution_count": 77,
   "metadata": {
    "collapsed": false,
    "deletable": true,
    "editable": true
   },
   "outputs": [],
   "source": [
    "from tqdm import tqdm_notebook"
   ]
  },
  {
   "cell_type": "code",
   "execution_count": 78,
   "metadata": {
    "collapsed": false,
    "deletable": true,
    "editable": true
   },
   "outputs": [],
   "source": [
    "ax9 = cdf_plot(edf[[\"edge_id\",\"car_count\"]].groupby(\"edge_id\").size())"
   ]
  },
  {
   "cell_type": "code",
   "execution_count": 79,
   "metadata": {
    "collapsed": false,
    "deletable": true,
    "editable": true
   },
   "outputs": [
    {
     "data": {
      "text/plain": [
       "<matplotlib.text.Text at 0x6cb18860>"
      ]
     },
     "execution_count": 79,
     "metadata": {},
     "output_type": "execute_result"
    }
   ],
   "source": [
    "ax9.set_xlim(0,120)\n",
    "ax9.set_xlabel(\"Size of edge groups\",fontsize=16)\n",
    "ax9.set_ylabel(\"CDF\",fontsize=16)\n",
    "ax9.set_title(\"CDF of count of minutes a group has at least one vehicle\")"
   ]
  },
  {
   "cell_type": "code",
   "execution_count": 80,
   "metadata": {
    "collapsed": true,
    "deletable": true,
    "editable": true
   },
   "outputs": [],
   "source": [
    "plt.savefig(\"cdf_edge_group_sizes.pdf\",bbox_inches=\"tight\")"
   ]
  },
  {
   "cell_type": "code",
   "execution_count": 81,
   "metadata": {
    "collapsed": false,
    "deletable": true,
    "editable": true
   },
   "outputs": [
    {
     "data": {
      "image/png": "[encoded data removed]",
      "text/plain": [
       "<matplotlib.figure.Figure at 0x37878908>"
      ]
     },
     "metadata": {},
     "output_type": "display_data"
    }
   ],
   "source": [
    "plt.show()"
   ]
  },
  {
   "cell_type": "code",
   "execution_count": 82,
   "metadata": {
    "collapsed": true,
    "deletable": true,
    "editable": true
   },
   "outputs": [],
   "source": [
    "edf[[\"edge_id\",\"car_count\"]].to_csv(\"total_veh_per_edge.csv\",index=False)"
   ]
  },
  {
   "cell_type": "markdown",
   "metadata": {
    "deletable": true,
    "editable": true
   },
   "source": [
    "USE THE SAVED CSV FOR BEST FIT ANALYSIS"
   ]
  },
  {
   "cell_type": "code",
   "execution_count": null,
   "metadata": {
    "collapsed": true,
    "deletable": true,
    "editable": true
   },
   "outputs": [],
   "source": []
  },
  {
   "cell_type": "code",
   "execution_count": 94,
   "metadata": {
    "collapsed": false,
    "deletable": true,
    "editable": true
   },
   "outputs": [],
   "source": [
    "#ax10 = sns.distplot(edf[\"car_count\"],bins=32,kde_kws ={ \"bw\" : 1.5 , \"color\" : \"red\"})\n",
    "#ax10 = sns.distplot(edf[\"car_count\"],bins=32,kde=False)\n",
    "ax10 = sns.distplot(edf_cameras[\"car_count\"],bins=32,hist_kws={\"alpha\":0.6},fit=st.expon,kde=False,fit_kws={\"color\":\"red\",\"label\":\"exponential fit\"})"
   ]
  },
  {
   "cell_type": "code",
   "execution_count": 95,
   "metadata": {
    "collapsed": false,
    "deletable": true,
    "editable": true
   },
   "outputs": [
    {
     "data": {
      "text/plain": [
       "<matplotlib.legend.Legend at 0x7f23a128>"
      ]
     },
     "execution_count": 95,
     "metadata": {},
     "output_type": "execute_result"
    }
   ],
   "source": [
    "ax10.set_xlim(0,100)\n",
    "ax10.set_xlabel(\"Number of cars\",fontsize=16)\n",
    "ax10.set_ylabel(\"Normed frequency\",fontsize=16)\n",
    "ax10.set_title(\"Density of per minute vehicle near cameras\")\n",
    "ax10.legend(loc='best')"
   ]
  },
  {
   "cell_type": "code",
   "execution_count": 96,
   "metadata": {
    "collapsed": true,
    "deletable": true,
    "editable": true
   },
   "outputs": [],
   "source": [
    "plt.savefig(\"density_total_car_count.pdf\",bbox_inches=\"tight\")"
   ]
  },
  {
   "cell_type": "code",
   "execution_count": 97,
   "metadata": {
    "collapsed": false,
    "deletable": true,
    "editable": true
   },
   "outputs": [
    {
     "data": {
      "image/png": "[encoded data removed]",
      "text/plain": [
       "<matplotlib.figure.Figure at 0x7f23a390>"
      ]
     },
     "metadata": {},
     "output_type": "display_data"
    }
   ],
   "source": [
    "plt.show()"
   ]
  },
  {
   "cell_type": "code",
   "execution_count": null,
   "metadata": {
    "collapsed": true,
    "deletable": true,
    "editable": true
   },
   "outputs": [],
   "source": []
  }
 ],
 "metadata": {
  "anaconda-cloud": {},
  "kernelspec": {
   "display_name": "Python 3",
   "language": "python",
   "name": "python3"
  },
  "language_info": {
   "codemirror_mode": {
    "name": "ipython",
    "version": 3
   },
   "file_extension": ".py",
   "mimetype": "text/x-python",
   "name": "python",
   "nbconvert_exporter": "python",
   "pygments_lexer": "ipython3",
   "version": "3.6.0"
  }
 },
 "nbformat": 4,
 "nbformat_minor": 2
}
