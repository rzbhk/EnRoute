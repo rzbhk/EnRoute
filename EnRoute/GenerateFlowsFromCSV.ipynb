{
 "cells": [
  {
   "cell_type": "code",
   "execution_count": 1,
   "metadata": {
    "collapsed": true
   },
   "outputs": [],
   "source": [
    "import pandas as pd\n",
    "import numpy as np"
   ]
  },
  {
   "cell_type": "code",
   "execution_count": 18,
   "metadata": {
    "collapsed": true
   },
   "outputs": [],
   "source": [
    "from os import chdir\n",
    "chdir(r\"C:\\Users\\Roozbeh\\Sumo\\WDC_FewerEdgesMap\\All cameras in data 106\")"
   ]
  },
  {
   "cell_type": "code",
   "execution_count": 19,
   "metadata": {},
   "outputs": [],
   "source": [
    "df = pd.read_csv(\"data.csv\",usecols=[\"CAMERA_ID\",\"DENSITY_VALUE\",\"DL_TIMESTAMP_CITY\"],engine='c',infer_datetime_format=False)"
   ]
  },
  {
   "cell_type": "code",
   "execution_count": 20,
   "metadata": {},
   "outputs": [
    {
     "data": {
      "text/html": [
       "<div>\n",
       "<table border=\"1\" class=\"dataframe\">\n",
       "  <thead>\n",
       "    <tr style=\"text-align: right;\">\n",
       "      <th></th>\n",
       "      <th>CAMERA_ID</th>\n",
       "      <th>DENSITY_VALUE</th>\n",
       "      <th>DL_TIMESTAMP_CITY</th>\n",
       "    </tr>\n",
       "  </thead>\n",
       "  <tbody>\n",
       "    <tr>\n",
       "      <th>0</th>\n",
       "      <td>114</td>\n",
       "      <td>3701.913725</td>\n",
       "      <td>21-NOV-10 07.17.29.000000000 AM</td>\n",
       "    </tr>\n",
       "    <tr>\n",
       "      <th>1</th>\n",
       "      <td>114</td>\n",
       "      <td>3688.501961</td>\n",
       "      <td>21-NOV-10 07.17.44.000000000 AM</td>\n",
       "    </tr>\n",
       "  </tbody>\n",
       "</table>\n",
       "</div>"
      ],
      "text/plain": [
       "   CAMERA_ID  DENSITY_VALUE                DL_TIMESTAMP_CITY\n",
       "0        114    3701.913725  21-NOV-10 07.17.29.000000000 AM\n",
       "1        114    3688.501961  21-NOV-10 07.17.44.000000000 AM"
      ]
     },
     "execution_count": 20,
     "metadata": {},
     "output_type": "execute_result"
    }
   ],
   "source": [
    "df[:2]"
   ]
  },
  {
   "cell_type": "code",
   "execution_count": 21,
   "metadata": {},
   "outputs": [
    {
     "data": {
      "text/plain": [
       "23632477"
      ]
     },
     "execution_count": 21,
     "metadata": {},
     "output_type": "execute_result"
    }
   ],
   "source": [
    "len(df)"
   ]
  },
  {
   "cell_type": "code",
   "execution_count": 22,
   "metadata": {},
   "outputs": [],
   "source": [
    "df['TIMESTAMP']  = pd.to_datetime(df['DL_TIMESTAMP_CITY'],format=\"%d-%b-%y %I.%M.%S.000000000 %p\")"
   ]
  },
  {
   "cell_type": "markdown",
   "metadata": {},
   "source": [
    "Let's save to hdf for reduced file size and future loading ease"
   ]
  },
  {
   "cell_type": "code",
   "execution_count": 33,
   "metadata": {},
   "outputs": [],
   "source": [
    "df.to_hdf(\"data.hd5\",key=\"df\",complib=\"blosc\",complevel=9,mode='w')"
   ]
  },
  {
   "cell_type": "code",
   "execution_count": 34,
   "metadata": {},
   "outputs": [],
   "source": [
    "df.drop(\"DL_TIMESTAMP_CITY\",axis=1,inplace=True)"
   ]
  },
  {
   "cell_type": "code",
   "execution_count": 35,
   "metadata": {},
   "outputs": [],
   "source": [
    "df.sort_values([\"CAMERA_ID\",\"TIMESTAMP\"],inplace=True)"
   ]
  },
  {
   "cell_type": "code",
   "execution_count": 36,
   "metadata": {},
   "outputs": [
    {
     "data": {
      "text/html": [
       "<div>\n",
       "<table border=\"1\" class=\"dataframe\">\n",
       "  <thead>\n",
       "    <tr style=\"text-align: right;\">\n",
       "      <th></th>\n",
       "      <th>CAMERA_ID</th>\n",
       "      <th>DENSITY_VALUE</th>\n",
       "      <th>TIMESTAMP</th>\n",
       "    </tr>\n",
       "  </thead>\n",
       "  <tbody>\n",
       "    <tr>\n",
       "      <th>7375546</th>\n",
       "      <td>27</td>\n",
       "      <td>727.027451</td>\n",
       "      <td>2010-11-21 07:16:01</td>\n",
       "    </tr>\n",
       "    <tr>\n",
       "      <th>7375547</th>\n",
       "      <td>27</td>\n",
       "      <td>439.537255</td>\n",
       "      <td>2010-11-21 07:16:16</td>\n",
       "    </tr>\n",
       "  </tbody>\n",
       "</table>\n",
       "</div>"
      ],
      "text/plain": [
       "         CAMERA_ID  DENSITY_VALUE           TIMESTAMP\n",
       "7375546         27     727.027451 2010-11-21 07:16:01\n",
       "7375547         27     439.537255 2010-11-21 07:16:16"
      ]
     },
     "execution_count": 36,
     "metadata": {},
     "output_type": "execute_result"
    }
   ],
   "source": [
    "df[:2]"
   ]
  },
  {
   "cell_type": "code",
   "execution_count": 37,
   "metadata": {},
   "outputs": [],
   "source": [
    "camerasdf = pd.read_csv(\"cameras.csv\",header=0)"
   ]
  },
  {
   "cell_type": "code",
   "execution_count": 10,
   "metadata": {},
   "outputs": [],
   "source": [
    "#camerasdf.drop(camerasdf.columns[0],axis=1,inplace=True)"
   ]
  },
  {
   "cell_type": "code",
   "execution_count": 38,
   "metadata": {},
   "outputs": [
    {
     "data": {
      "text/plain": [
       "106"
      ]
     },
     "execution_count": 38,
     "metadata": {},
     "output_type": "execute_result"
    }
   ],
   "source": [
    "len(camerasdf)"
   ]
  },
  {
   "cell_type": "code",
   "execution_count": 39,
   "metadata": {},
   "outputs": [
    {
     "data": {
      "text/html": [
       "<div>\n",
       "<table border=\"1\" class=\"dataframe\">\n",
       "  <thead>\n",
       "    <tr style=\"text-align: right;\">\n",
       "      <th></th>\n",
       "      <th>CAMERA_ID</th>\n",
       "      <th>CAMERA_NAME</th>\n",
       "      <th>CAMERA_DESC</th>\n",
       "      <th>ORIENTATION</th>\n",
       "      <th>ZIPCODE</th>\n",
       "      <th>GEO_LAT</th>\n",
       "      <th>GEO_LON</th>\n",
       "    </tr>\n",
       "  </thead>\n",
       "  <tbody>\n",
       "    <tr>\n",
       "      <th>0</th>\n",
       "      <td>114</td>\n",
       "      <td>200144</td>\n",
       "      <td>N Capitol St @ H St</td>\n",
       "      <td>South</td>\n",
       "      <td>20211</td>\n",
       "      <td>38.900343</td>\n",
       "      <td>-77.009251</td>\n",
       "    </tr>\n",
       "    <tr>\n",
       "      <th>1</th>\n",
       "      <td>115</td>\n",
       "      <td>200145</td>\n",
       "      <td>Constitution Ave @ 20th St</td>\n",
       "      <td>East</td>\n",
       "      <td>20551</td>\n",
       "      <td>38.891975</td>\n",
       "      <td>-77.045043</td>\n",
       "    </tr>\n",
       "    <tr>\n",
       "      <th>2</th>\n",
       "      <td>116</td>\n",
       "      <td>200146</td>\n",
       "      <td>14th St @ Independence Ave</td>\n",
       "      <td>Median</td>\n",
       "      <td>20228</td>\n",
       "      <td>38.887402</td>\n",
       "      <td>-77.031956</td>\n",
       "    </tr>\n",
       "    <tr>\n",
       "      <th>3</th>\n",
       "      <td>117</td>\n",
       "      <td>200147</td>\n",
       "      <td>H St @ 14th St</td>\n",
       "      <td>East</td>\n",
       "      <td>20533</td>\n",
       "      <td>38.900149</td>\n",
       "      <td>-77.031760</td>\n",
       "    </tr>\n",
       "    <tr>\n",
       "      <th>4</th>\n",
       "      <td>118</td>\n",
       "      <td>200148</td>\n",
       "      <td>14th St @ New York Ave</td>\n",
       "      <td>North</td>\n",
       "      <td>20501</td>\n",
       "      <td>38.899637</td>\n",
       "      <td>-77.031821</td>\n",
       "    </tr>\n",
       "  </tbody>\n",
       "</table>\n",
       "</div>"
      ],
      "text/plain": [
       "   CAMERA_ID  CAMERA_NAME                 CAMERA_DESC ORIENTATION  ZIPCODE  \\\n",
       "0        114       200144         N Capitol St @ H St       South    20211   \n",
       "1        115       200145  Constitution Ave @ 20th St        East    20551   \n",
       "2        116       200146  14th St @ Independence Ave      Median    20228   \n",
       "3        117       200147              H St @ 14th St        East    20533   \n",
       "4        118       200148      14th St @ New York Ave       North    20501   \n",
       "\n",
       "     GEO_LAT    GEO_LON  \n",
       "0  38.900343 -77.009251  \n",
       "1  38.891975 -77.045043  \n",
       "2  38.887402 -77.031956  \n",
       "3  38.900149 -77.031760  \n",
       "4  38.899637 -77.031821  "
      ]
     },
     "execution_count": 39,
     "metadata": {},
     "output_type": "execute_result"
    }
   ],
   "source": [
    "camerasdf[:5]"
   ]
  },
  {
   "cell_type": "code",
   "execution_count": 40,
   "metadata": {},
   "outputs": [],
   "source": [
    "camera_groups = df.groupby(\"CAMERA_ID\")"
   ]
  },
  {
   "cell_type": "code",
   "execution_count": 41,
   "metadata": {},
   "outputs": [
    {
     "data": {
      "text/plain": [
       "106"
      ]
     },
     "execution_count": 41,
     "metadata": {},
     "output_type": "execute_result"
    }
   ],
   "source": [
    "#import matplotlib.pyplot as plt\n",
    "len(camera_groups)"
   ]
  },
  {
   "cell_type": "code",
   "execution_count": 42,
   "metadata": {},
   "outputs": [
    {
     "data": {
      "text/plain": [
       "106"
      ]
     },
     "execution_count": 42,
     "metadata": {},
     "output_type": "execute_result"
    }
   ],
   "source": [
    "len(df.CAMERA_ID.unique())"
   ]
  },
  {
   "cell_type": "code",
   "execution_count": null,
   "metadata": {
    "collapsed": true
   },
   "outputs": [],
   "source": [
    "temp = list()\n",
    "for name,group in camera_groups:\n",
    "    temp.append(name)"
   ]
  },
  {
   "cell_type": "code",
   "execution_count": null,
   "metadata": {},
   "outputs": [],
   "source": [
    "len(temp)"
   ]
  },
  {
   "cell_type": "markdown",
   "metadata": {},
   "source": [
    "It is already done in sampling but always make sure it is done."
   ]
  },
  {
   "cell_type": "code",
   "execution_count": 56,
   "metadata": {},
   "outputs": [],
   "source": [
    "cameras_in_df = camerasdf.merge(df,on=\"CAMERA_ID\")"
   ]
  },
  {
   "cell_type": "code",
   "execution_count": 64,
   "metadata": {},
   "outputs": [],
   "source": [
    "cameras_in_df[df.columns].to_csv(\"data_2.csv\",index=False)"
   ]
  },
  {
   "cell_type": "code",
   "execution_count": 65,
   "metadata": {},
   "outputs": [],
   "source": [
    "cameras_in_df[camerasdf.columns].drop_duplicates().to_csv(\"cameras_2.csv\",index=False)"
   ]
  },
  {
   "cell_type": "code",
   "execution_count": 43,
   "metadata": {},
   "outputs": [],
   "source": [
    "def getFlowFromOcc(x,peakPt = (0.509,38.75),startPt = (0.044,7.15),endPt = (0.80,16)):\n",
    "    return ( (x-startPt[0]) * (peakPt[1]-startPt[1])/(peakPt[0]-startPt[0]) + startPt[1] \n",
    "             if x < peakPt[0] \n",
    "             else ( endPt[0]-x ) * (peakPt[1]-endPt[1])/(endPt[0]-peakPt[0]) + endPt[1] )"
   ]
  },
  {
   "cell_type": "code",
   "execution_count": 44,
   "metadata": {
    "collapsed": true
   },
   "outputs": [],
   "source": [
    "def getSpeedFromOcc(x,a = 77.45, b = -98.95 , c = 35.9):\n",
    "    return a * x * x + b * x + c"
   ]
  },
  {
   "cell_type": "code",
   "execution_count": 45,
   "metadata": {
    "collapsed": true
   },
   "outputs": [],
   "source": [
    "def get_flow_and_speed_from_group(group):\n",
    "    #print group\n",
    "    min_density = group[\"DENSITY_VALUE\"].min()\n",
    "    group[\"DENSITY_VALUE_TEMP\"] = group[\"DENSITY_VALUE\"]-min_density\n",
    "    max_density = group[\"DENSITY_VALUE_TEMP\"].max()\n",
    "    group[\"DENSITY_VALUE_TEMP\"] /= max_density\n",
    "    group[\"DENSITY_VALUE_TEMP\"] *= 0.80 #it is to scale values matching to occupancy values :-?\n",
    "    group[\"FLOW\"] = group[\"DENSITY_VALUE_TEMP\"].apply(getFlowFromOcc)\n",
    "    group[\"SPEED\"] = group[\"DENSITY_VALUE_TEMP\"].apply(getSpeedFromOcc)\n",
    "    #print group\n",
    "    return group[[\"CAMERA_ID\",\"TIMESTAMP\",\"FLOW\",\"SPEED\"]]"
   ]
  },
  {
   "cell_type": "code",
   "execution_count": 46,
   "metadata": {},
   "outputs": [],
   "source": [
    "measurementsdf = camera_groups.apply(get_flow_and_speed_from_group)"
   ]
  },
  {
   "cell_type": "code",
   "execution_count": 76,
   "metadata": {},
   "outputs": [
    {
     "data": {
      "text/html": [
       "<div>\n",
       "<table border=\"1\" class=\"dataframe\">\n",
       "  <thead>\n",
       "    <tr style=\"text-align: right;\">\n",
       "      <th></th>\n",
       "      <th>CAMERA_ID</th>\n",
       "      <th>TIMESTAMP</th>\n",
       "      <th>FLOW</th>\n",
       "      <th>SPEED</th>\n",
       "    </tr>\n",
       "  </thead>\n",
       "  <tbody>\n",
       "    <tr>\n",
       "      <th>7375546</th>\n",
       "      <td>27</td>\n",
       "      <td>2010-11-21 07:16:01</td>\n",
       "      <td>7.933743</td>\n",
       "      <td>30.643865</td>\n",
       "    </tr>\n",
       "    <tr>\n",
       "      <th>7375547</th>\n",
       "      <td>27</td>\n",
       "      <td>2010-11-21 07:16:16</td>\n",
       "      <td>6.345627</td>\n",
       "      <td>32.797544</td>\n",
       "    </tr>\n",
       "    <tr>\n",
       "      <th>7375548</th>\n",
       "      <td>27</td>\n",
       "      <td>2010-11-21 07:16:31</td>\n",
       "      <td>6.864088</td>\n",
       "      <td>32.085147</td>\n",
       "    </tr>\n",
       "    <tr>\n",
       "      <th>7375549</th>\n",
       "      <td>27</td>\n",
       "      <td>2010-11-21 07:16:46</td>\n",
       "      <td>7.095146</td>\n",
       "      <td>31.770564</td>\n",
       "    </tr>\n",
       "    <tr>\n",
       "      <th>7375550</th>\n",
       "      <td>27</td>\n",
       "      <td>2010-11-21 07:17:01</td>\n",
       "      <td>7.012869</td>\n",
       "      <td>31.882377</td>\n",
       "    </tr>\n",
       "  </tbody>\n",
       "</table>\n",
       "</div>"
      ],
      "text/plain": [
       "         CAMERA_ID           TIMESTAMP      FLOW      SPEED\n",
       "7375546         27 2010-11-21 07:16:01  7.933743  30.643865\n",
       "7375547         27 2010-11-21 07:16:16  6.345627  32.797544\n",
       "7375548         27 2010-11-21 07:16:31  6.864088  32.085147\n",
       "7375549         27 2010-11-21 07:16:46  7.095146  31.770564\n",
       "7375550         27 2010-11-21 07:17:01  7.012869  31.882377"
      ]
     },
     "execution_count": 76,
     "metadata": {},
     "output_type": "execute_result"
    }
   ],
   "source": [
    "measurementsdf[:5]"
   ]
  },
  {
   "cell_type": "code",
   "execution_count": 48,
   "metadata": {
    "collapsed": true
   },
   "outputs": [],
   "source": [
    "import datetime"
   ]
  },
  {
   "cell_type": "code",
   "execution_count": 49,
   "metadata": {},
   "outputs": [
    {
     "data": {
      "text/plain": [
       "pandas.tslib.Timestamp"
      ]
     },
     "execution_count": 49,
     "metadata": {},
     "output_type": "execute_result"
    }
   ],
   "source": [
    "type(measurementsdf.TIMESTAMP[0])"
   ]
  },
  {
   "cell_type": "code",
   "execution_count": 77,
   "metadata": {},
   "outputs": [],
   "source": [
    "measurements_10_1030 = measurementsdf.ix[(measurementsdf.TIMESTAMP  < pd.Timestamp(\"2010-11-21 10:31:00\") ) & \n",
    "                                         (measurementsdf.TIMESTAMP >= pd.Timestamp(\"2010-11-21 10:00:00\"))]"
   ]
  },
  {
   "cell_type": "code",
   "execution_count": 78,
   "metadata": {},
   "outputs": [
    {
     "data": {
      "text/html": [
       "<div>\n",
       "<table border=\"1\" class=\"dataframe\">\n",
       "  <thead>\n",
       "    <tr style=\"text-align: right;\">\n",
       "      <th></th>\n",
       "      <th>CAMERA_ID</th>\n",
       "      <th>TIMESTAMP</th>\n",
       "      <th>FLOW</th>\n",
       "      <th>SPEED</th>\n",
       "    </tr>\n",
       "  </thead>\n",
       "  <tbody>\n",
       "    <tr>\n",
       "      <th>7375010</th>\n",
       "      <td>27</td>\n",
       "      <td>2010-11-21 10:00:03</td>\n",
       "      <td>10.867133</td>\n",
       "      <td>26.888269</td>\n",
       "    </tr>\n",
       "    <tr>\n",
       "      <th>7375011</th>\n",
       "      <td>27</td>\n",
       "      <td>2010-11-21 10:00:18</td>\n",
       "      <td>10.969231</td>\n",
       "      <td>26.762752</td>\n",
       "    </tr>\n",
       "    <tr>\n",
       "      <th>7375012</th>\n",
       "      <td>27</td>\n",
       "      <td>2010-11-21 10:00:33</td>\n",
       "      <td>10.686702</td>\n",
       "      <td>27.110944</td>\n",
       "    </tr>\n",
       "    <tr>\n",
       "      <th>7375013</th>\n",
       "      <td>27</td>\n",
       "      <td>2010-11-21 10:00:48</td>\n",
       "      <td>8.320168</td>\n",
       "      <td>30.132623</td>\n",
       "    </tr>\n",
       "    <tr>\n",
       "      <th>7375014</th>\n",
       "      <td>27</td>\n",
       "      <td>2010-11-21 10:01:03</td>\n",
       "      <td>7.418358</td>\n",
       "      <td>31.333518</td>\n",
       "    </tr>\n",
       "    <tr>\n",
       "      <th>7375015</th>\n",
       "      <td>27</td>\n",
       "      <td>2010-11-21 10:01:18</td>\n",
       "      <td>10.493489</td>\n",
       "      <td>27.350603</td>\n",
       "    </tr>\n",
       "    <tr>\n",
       "      <th>7375016</th>\n",
       "      <td>27</td>\n",
       "      <td>2010-11-21 10:01:33</td>\n",
       "      <td>11.387696</td>\n",
       "      <td>26.251951</td>\n",
       "    </tr>\n",
       "    <tr>\n",
       "      <th>7375017</th>\n",
       "      <td>27</td>\n",
       "      <td>2010-11-21 10:01:48</td>\n",
       "      <td>9.698608</td>\n",
       "      <td>28.349737</td>\n",
       "    </tr>\n",
       "    <tr>\n",
       "      <th>7375018</th>\n",
       "      <td>27</td>\n",
       "      <td>2010-11-21 10:02:03</td>\n",
       "      <td>9.313461</td>\n",
       "      <td>28.841473</td>\n",
       "    </tr>\n",
       "    <tr>\n",
       "      <th>7375019</th>\n",
       "      <td>27</td>\n",
       "      <td>2010-11-21 10:02:18</td>\n",
       "      <td>10.447737</td>\n",
       "      <td>27.407537</td>\n",
       "    </tr>\n",
       "    <tr>\n",
       "      <th>7375020</th>\n",
       "      <td>27</td>\n",
       "      <td>2010-11-21 10:02:33</td>\n",
       "      <td>7.277895</td>\n",
       "      <td>31.523021</td>\n",
       "    </tr>\n",
       "    <tr>\n",
       "      <th>7375021</th>\n",
       "      <td>27</td>\n",
       "      <td>2010-11-21 10:02:48</td>\n",
       "      <td>9.328365</td>\n",
       "      <td>28.822352</td>\n",
       "    </tr>\n",
       "    <tr>\n",
       "      <th>7375022</th>\n",
       "      <td>27</td>\n",
       "      <td>2010-11-21 10:03:03</td>\n",
       "      <td>9.452538</td>\n",
       "      <td>28.663333</td>\n",
       "    </tr>\n",
       "    <tr>\n",
       "      <th>7375023</th>\n",
       "      <td>27</td>\n",
       "      <td>2010-11-21 10:03:18</td>\n",
       "      <td>9.678266</td>\n",
       "      <td>28.375583</td>\n",
       "    </tr>\n",
       "    <tr>\n",
       "      <th>7375024</th>\n",
       "      <td>27</td>\n",
       "      <td>2010-11-21 10:03:33</td>\n",
       "      <td>7.235912</td>\n",
       "      <td>31.579790</td>\n",
       "    </tr>\n",
       "    <tr>\n",
       "      <th>7375025</th>\n",
       "      <td>27</td>\n",
       "      <td>2010-11-21 10:03:48</td>\n",
       "      <td>6.913090</td>\n",
       "      <td>32.018282</td>\n",
       "    </tr>\n",
       "    <tr>\n",
       "      <th>7375026</th>\n",
       "      <td>27</td>\n",
       "      <td>2010-11-21 10:04:03</td>\n",
       "      <td>10.921421</td>\n",
       "      <td>26.821486</td>\n",
       "    </tr>\n",
       "    <tr>\n",
       "      <th>7375027</th>\n",
       "      <td>27</td>\n",
       "      <td>2010-11-21 10:04:18</td>\n",
       "      <td>9.898796</td>\n",
       "      <td>28.096112</td>\n",
       "    </tr>\n",
       "    <tr>\n",
       "      <th>7375028</th>\n",
       "      <td>27</td>\n",
       "      <td>2010-11-21 10:04:33</td>\n",
       "      <td>9.244378</td>\n",
       "      <td>28.930202</td>\n",
       "    </tr>\n",
       "    <tr>\n",
       "      <th>7375029</th>\n",
       "      <td>27</td>\n",
       "      <td>2010-11-21 10:04:48</td>\n",
       "      <td>9.053570</td>\n",
       "      <td>29.176101</td>\n",
       "    </tr>\n",
       "    <tr>\n",
       "      <th>7375030</th>\n",
       "      <td>27</td>\n",
       "      <td>2010-11-21 10:05:03</td>\n",
       "      <td>8.536777</td>\n",
       "      <td>29.848239</td>\n",
       "    </tr>\n",
       "    <tr>\n",
       "      <th>7375031</th>\n",
       "      <td>27</td>\n",
       "      <td>2010-11-21 10:05:18</td>\n",
       "      <td>10.206628</td>\n",
       "      <td>27.708732</td>\n",
       "    </tr>\n",
       "    <tr>\n",
       "      <th>7375032</th>\n",
       "      <td>27</td>\n",
       "      <td>2010-11-21 10:05:33</td>\n",
       "      <td>7.892670</td>\n",
       "      <td>30.698500</td>\n",
       "    </tr>\n",
       "    <tr>\n",
       "      <th>7375033</th>\n",
       "      <td>27</td>\n",
       "      <td>2010-11-21 10:05:48</td>\n",
       "      <td>6.979508</td>\n",
       "      <td>31.927779</td>\n",
       "    </tr>\n",
       "    <tr>\n",
       "      <th>7375034</th>\n",
       "      <td>27</td>\n",
       "      <td>2010-11-21 10:06:03</td>\n",
       "      <td>7.832273</td>\n",
       "      <td>30.778941</td>\n",
       "    </tr>\n",
       "    <tr>\n",
       "      <th>7375035</th>\n",
       "      <td>27</td>\n",
       "      <td>2010-11-21 10:06:18</td>\n",
       "      <td>10.991739</td>\n",
       "      <td>26.735128</td>\n",
       "    </tr>\n",
       "    <tr>\n",
       "      <th>7374866</th>\n",
       "      <td>27</td>\n",
       "      <td>2010-11-21 10:06:33</td>\n",
       "      <td>9.065701</td>\n",
       "      <td>29.160431</td>\n",
       "    </tr>\n",
       "    <tr>\n",
       "      <th>7374867</th>\n",
       "      <td>27</td>\n",
       "      <td>2010-11-21 10:06:48</td>\n",
       "      <td>10.314834</td>\n",
       "      <td>27.573318</td>\n",
       "    </tr>\n",
       "    <tr>\n",
       "      <th>7374868</th>\n",
       "      <td>27</td>\n",
       "      <td>2010-11-21 10:07:03</td>\n",
       "      <td>7.298670</td>\n",
       "      <td>31.494951</td>\n",
       "    </tr>\n",
       "    <tr>\n",
       "      <th>7374869</th>\n",
       "      <td>27</td>\n",
       "      <td>2010-11-21 10:07:18</td>\n",
       "      <td>7.126535</td>\n",
       "      <td>31.727965</td>\n",
       "    </tr>\n",
       "    <tr>\n",
       "      <th>...</th>\n",
       "      <td>...</td>\n",
       "      <td>...</td>\n",
       "      <td>...</td>\n",
       "      <td>...</td>\n",
       "    </tr>\n",
       "    <tr>\n",
       "      <th>4197790</th>\n",
       "      <td>133</td>\n",
       "      <td>2010-11-21 10:23:35</td>\n",
       "      <td>8.738335</td>\n",
       "      <td>29.585027</td>\n",
       "    </tr>\n",
       "    <tr>\n",
       "      <th>4197791</th>\n",
       "      <td>133</td>\n",
       "      <td>2010-11-21 10:23:50</td>\n",
       "      <td>9.441037</td>\n",
       "      <td>28.678040</td>\n",
       "    </tr>\n",
       "    <tr>\n",
       "      <th>4197792</th>\n",
       "      <td>133</td>\n",
       "      <td>2010-11-21 10:24:05</td>\n",
       "      <td>8.907154</td>\n",
       "      <td>29.365618</td>\n",
       "    </tr>\n",
       "    <tr>\n",
       "      <th>4197793</th>\n",
       "      <td>133</td>\n",
       "      <td>2010-11-21 10:24:20</td>\n",
       "      <td>9.270604</td>\n",
       "      <td>28.896498</td>\n",
       "    </tr>\n",
       "    <tr>\n",
       "      <th>4197794</th>\n",
       "      <td>133</td>\n",
       "      <td>2010-11-21 10:24:35</td>\n",
       "      <td>9.665735</td>\n",
       "      <td>28.391513</td>\n",
       "    </tr>\n",
       "    <tr>\n",
       "      <th>4197795</th>\n",
       "      <td>133</td>\n",
       "      <td>2010-11-21 10:24:50</td>\n",
       "      <td>8.823078</td>\n",
       "      <td>29.474770</td>\n",
       "    </tr>\n",
       "    <tr>\n",
       "      <th>4197796</th>\n",
       "      <td>133</td>\n",
       "      <td>2010-11-21 10:25:05</td>\n",
       "      <td>8.489111</td>\n",
       "      <td>29.910684</td>\n",
       "    </tr>\n",
       "    <tr>\n",
       "      <th>4197797</th>\n",
       "      <td>133</td>\n",
       "      <td>2010-11-21 10:25:20</td>\n",
       "      <td>8.192201</td>\n",
       "      <td>30.301368</td>\n",
       "    </tr>\n",
       "    <tr>\n",
       "      <th>4197798</th>\n",
       "      <td>133</td>\n",
       "      <td>2010-11-21 10:25:35</td>\n",
       "      <td>7.671962</td>\n",
       "      <td>30.993050</td>\n",
       "    </tr>\n",
       "    <tr>\n",
       "      <th>4197799</th>\n",
       "      <td>133</td>\n",
       "      <td>2010-11-21 10:25:50</td>\n",
       "      <td>7.810047</td>\n",
       "      <td>30.808574</td>\n",
       "    </tr>\n",
       "    <tr>\n",
       "      <th>4197800</th>\n",
       "      <td>133</td>\n",
       "      <td>2010-11-21 10:26:05</td>\n",
       "      <td>7.801934</td>\n",
       "      <td>30.819395</td>\n",
       "    </tr>\n",
       "    <tr>\n",
       "      <th>4197801</th>\n",
       "      <td>133</td>\n",
       "      <td>2010-11-21 10:26:20</td>\n",
       "      <td>8.216646</td>\n",
       "      <td>30.269092</td>\n",
       "    </tr>\n",
       "    <tr>\n",
       "      <th>4197802</th>\n",
       "      <td>133</td>\n",
       "      <td>2010-11-21 10:26:35</td>\n",
       "      <td>9.706896</td>\n",
       "      <td>28.339209</td>\n",
       "    </tr>\n",
       "    <tr>\n",
       "      <th>4197803</th>\n",
       "      <td>133</td>\n",
       "      <td>2010-11-21 10:26:50</td>\n",
       "      <td>9.188562</td>\n",
       "      <td>29.002006</td>\n",
       "    </tr>\n",
       "    <tr>\n",
       "      <th>4197804</th>\n",
       "      <td>133</td>\n",
       "      <td>2010-11-21 10:27:05</td>\n",
       "      <td>10.316789</td>\n",
       "      <td>27.570876</td>\n",
       "    </tr>\n",
       "    <tr>\n",
       "      <th>4197805</th>\n",
       "      <td>133</td>\n",
       "      <td>2010-11-21 10:27:20</td>\n",
       "      <td>10.662061</td>\n",
       "      <td>27.141439</td>\n",
       "    </tr>\n",
       "    <tr>\n",
       "      <th>4197806</th>\n",
       "      <td>133</td>\n",
       "      <td>2010-11-21 10:27:35</td>\n",
       "      <td>11.355433</td>\n",
       "      <td>26.291123</td>\n",
       "    </tr>\n",
       "    <tr>\n",
       "      <th>4197807</th>\n",
       "      <td>133</td>\n",
       "      <td>2010-11-21 10:27:50</td>\n",
       "      <td>10.231053</td>\n",
       "      <td>27.678132</td>\n",
       "    </tr>\n",
       "    <tr>\n",
       "      <th>4197808</th>\n",
       "      <td>133</td>\n",
       "      <td>2010-11-21 10:28:05</td>\n",
       "      <td>9.015885</td>\n",
       "      <td>29.224810</td>\n",
       "    </tr>\n",
       "    <tr>\n",
       "      <th>4197809</th>\n",
       "      <td>133</td>\n",
       "      <td>2010-11-21 10:28:20</td>\n",
       "      <td>8.477093</td>\n",
       "      <td>29.926440</td>\n",
       "    </tr>\n",
       "    <tr>\n",
       "      <th>4197810</th>\n",
       "      <td>133</td>\n",
       "      <td>2010-11-21 10:28:35</td>\n",
       "      <td>13.456477</td>\n",
       "      <td>23.812980</td>\n",
       "    </tr>\n",
       "    <tr>\n",
       "      <th>4197811</th>\n",
       "      <td>133</td>\n",
       "      <td>2010-11-21 10:28:50</td>\n",
       "      <td>12.990702</td>\n",
       "      <td>24.349580</td>\n",
       "    </tr>\n",
       "    <tr>\n",
       "      <th>4197812</th>\n",
       "      <td>133</td>\n",
       "      <td>2010-11-21 10:29:05</td>\n",
       "      <td>13.193808</td>\n",
       "      <td>24.114695</td>\n",
       "    </tr>\n",
       "    <tr>\n",
       "      <th>4197813</th>\n",
       "      <td>133</td>\n",
       "      <td>2010-11-21 10:29:20</td>\n",
       "      <td>11.453035</td>\n",
       "      <td>26.172724</td>\n",
       "    </tr>\n",
       "    <tr>\n",
       "      <th>4197814</th>\n",
       "      <td>133</td>\n",
       "      <td>2010-11-21 10:29:35</td>\n",
       "      <td>10.769857</td>\n",
       "      <td>27.008185</td>\n",
       "    </tr>\n",
       "    <tr>\n",
       "      <th>4197815</th>\n",
       "      <td>133</td>\n",
       "      <td>2010-11-21 10:29:50</td>\n",
       "      <td>11.577770</td>\n",
       "      <td>26.021876</td>\n",
       "    </tr>\n",
       "    <tr>\n",
       "      <th>4197816</th>\n",
       "      <td>133</td>\n",
       "      <td>2010-11-21 10:30:05</td>\n",
       "      <td>10.097035</td>\n",
       "      <td>27.846280</td>\n",
       "    </tr>\n",
       "    <tr>\n",
       "      <th>4197817</th>\n",
       "      <td>133</td>\n",
       "      <td>2010-11-21 10:30:20</td>\n",
       "      <td>7.741460</td>\n",
       "      <td>30.900123</td>\n",
       "    </tr>\n",
       "    <tr>\n",
       "      <th>4197818</th>\n",
       "      <td>133</td>\n",
       "      <td>2010-11-21 10:30:35</td>\n",
       "      <td>7.611792</td>\n",
       "      <td>31.073634</td>\n",
       "    </tr>\n",
       "    <tr>\n",
       "      <th>4197819</th>\n",
       "      <td>133</td>\n",
       "      <td>2010-11-21 10:30:50</td>\n",
       "      <td>9.206296</td>\n",
       "      <td>28.979181</td>\n",
       "    </tr>\n",
       "  </tbody>\n",
       "</table>\n",
       "<p>12294 rows × 4 columns</p>\n",
       "</div>"
      ],
      "text/plain": [
       "         CAMERA_ID           TIMESTAMP       FLOW      SPEED\n",
       "7375010         27 2010-11-21 10:00:03  10.867133  26.888269\n",
       "7375011         27 2010-11-21 10:00:18  10.969231  26.762752\n",
       "7375012         27 2010-11-21 10:00:33  10.686702  27.110944\n",
       "7375013         27 2010-11-21 10:00:48   8.320168  30.132623\n",
       "7375014         27 2010-11-21 10:01:03   7.418358  31.333518\n",
       "7375015         27 2010-11-21 10:01:18  10.493489  27.350603\n",
       "7375016         27 2010-11-21 10:01:33  11.387696  26.251951\n",
       "7375017         27 2010-11-21 10:01:48   9.698608  28.349737\n",
       "7375018         27 2010-11-21 10:02:03   9.313461  28.841473\n",
       "7375019         27 2010-11-21 10:02:18  10.447737  27.407537\n",
       "7375020         27 2010-11-21 10:02:33   7.277895  31.523021\n",
       "7375021         27 2010-11-21 10:02:48   9.328365  28.822352\n",
       "7375022         27 2010-11-21 10:03:03   9.452538  28.663333\n",
       "7375023         27 2010-11-21 10:03:18   9.678266  28.375583\n",
       "7375024         27 2010-11-21 10:03:33   7.235912  31.579790\n",
       "7375025         27 2010-11-21 10:03:48   6.913090  32.018282\n",
       "7375026         27 2010-11-21 10:04:03  10.921421  26.821486\n",
       "7375027         27 2010-11-21 10:04:18   9.898796  28.096112\n",
       "7375028         27 2010-11-21 10:04:33   9.244378  28.930202\n",
       "7375029         27 2010-11-21 10:04:48   9.053570  29.176101\n",
       "7375030         27 2010-11-21 10:05:03   8.536777  29.848239\n",
       "7375031         27 2010-11-21 10:05:18  10.206628  27.708732\n",
       "7375032         27 2010-11-21 10:05:33   7.892670  30.698500\n",
       "7375033         27 2010-11-21 10:05:48   6.979508  31.927779\n",
       "7375034         27 2010-11-21 10:06:03   7.832273  30.778941\n",
       "7375035         27 2010-11-21 10:06:18  10.991739  26.735128\n",
       "7374866         27 2010-11-21 10:06:33   9.065701  29.160431\n",
       "7374867         27 2010-11-21 10:06:48  10.314834  27.573318\n",
       "7374868         27 2010-11-21 10:07:03   7.298670  31.494951\n",
       "7374869         27 2010-11-21 10:07:18   7.126535  31.727965\n",
       "...            ...                 ...        ...        ...\n",
       "4197790        133 2010-11-21 10:23:35   8.738335  29.585027\n",
       "4197791        133 2010-11-21 10:23:50   9.441037  28.678040\n",
       "4197792        133 2010-11-21 10:24:05   8.907154  29.365618\n",
       "4197793        133 2010-11-21 10:24:20   9.270604  28.896498\n",
       "4197794        133 2010-11-21 10:24:35   9.665735  28.391513\n",
       "4197795        133 2010-11-21 10:24:50   8.823078  29.474770\n",
       "4197796        133 2010-11-21 10:25:05   8.489111  29.910684\n",
       "4197797        133 2010-11-21 10:25:20   8.192201  30.301368\n",
       "4197798        133 2010-11-21 10:25:35   7.671962  30.993050\n",
       "4197799        133 2010-11-21 10:25:50   7.810047  30.808574\n",
       "4197800        133 2010-11-21 10:26:05   7.801934  30.819395\n",
       "4197801        133 2010-11-21 10:26:20   8.216646  30.269092\n",
       "4197802        133 2010-11-21 10:26:35   9.706896  28.339209\n",
       "4197803        133 2010-11-21 10:26:50   9.188562  29.002006\n",
       "4197804        133 2010-11-21 10:27:05  10.316789  27.570876\n",
       "4197805        133 2010-11-21 10:27:20  10.662061  27.141439\n",
       "4197806        133 2010-11-21 10:27:35  11.355433  26.291123\n",
       "4197807        133 2010-11-21 10:27:50  10.231053  27.678132\n",
       "4197808        133 2010-11-21 10:28:05   9.015885  29.224810\n",
       "4197809        133 2010-11-21 10:28:20   8.477093  29.926440\n",
       "4197810        133 2010-11-21 10:28:35  13.456477  23.812980\n",
       "4197811        133 2010-11-21 10:28:50  12.990702  24.349580\n",
       "4197812        133 2010-11-21 10:29:05  13.193808  24.114695\n",
       "4197813        133 2010-11-21 10:29:20  11.453035  26.172724\n",
       "4197814        133 2010-11-21 10:29:35  10.769857  27.008185\n",
       "4197815        133 2010-11-21 10:29:50  11.577770  26.021876\n",
       "4197816        133 2010-11-21 10:30:05  10.097035  27.846280\n",
       "4197817        133 2010-11-21 10:30:20   7.741460  30.900123\n",
       "4197818        133 2010-11-21 10:30:35   7.611792  31.073634\n",
       "4197819        133 2010-11-21 10:30:50   9.206296  28.979181\n",
       "\n",
       "[12294 rows x 4 columns]"
      ]
     },
     "execution_count": 78,
     "metadata": {},
     "output_type": "execute_result"
    }
   ],
   "source": [
    "measurements_10_1030"
   ]
  },
  {
   "cell_type": "code",
   "execution_count": 79,
   "metadata": {},
   "outputs": [],
   "source": [
    "data_30min_avg_20101121_10_1030 = measurements_10_1030.groupby(\"CAMERA_ID\").mean()"
   ]
  },
  {
   "cell_type": "code",
   "execution_count": 80,
   "metadata": {},
   "outputs": [],
   "source": [
    "data_30min_avg_20101121_10_1030.reset_index(inplace=True)"
   ]
  },
  {
   "cell_type": "code",
   "execution_count": 81,
   "metadata": {},
   "outputs": [],
   "source": [
    "cameras_in_timespan = cameras_in_df.merge(data_30min_avg_20101121_10_1030,on=\"CAMERA_ID\")"
   ]
  },
  {
   "cell_type": "code",
   "execution_count": 82,
   "metadata": {},
   "outputs": [],
   "source": [
    "cameras_in_timespan[df.columns].to_csv(\"data_3.csv\",index=False)"
   ]
  },
  {
   "cell_type": "code",
   "execution_count": 83,
   "metadata": {
    "collapsed": true
   },
   "outputs": [],
   "source": [
    "camera3_df= cameras_in_timespan[camerasdf.columns].drop_duplicates()\n",
    "camera3_df.to_csv(\"cameras_3.csv\",index=False)"
   ]
  },
  {
   "cell_type": "code",
   "execution_count": 84,
   "metadata": {},
   "outputs": [],
   "source": [
    "data_30min_avg_20101121_10_1030.to_csv(\"data_30min_avg_20101121_10_1030.csv\",index=False)"
   ]
  },
  {
   "cell_type": "code",
   "execution_count": 62,
   "metadata": {
    "collapsed": true
   },
   "outputs": [],
   "source": [
    "def samplecameras(inp,dist,out=False):\n",
    "    df = pd.read_csv(inp)\n",
    "    df[\"fake_key\"] = 1\n",
    "    cdf = df[[\"CAMERA_ID\",\"fake_key\"]].merge(df[[\"CAMERA_ID\",\"fake_key\"]],on=\"fake_key\",suffixes=[\"_FROM\",\"_TO\"]) # cross product => every possible from_to camera_id\n",
    "    ddf = pd.read_csv(dist)\n",
    "    sdf = cdf.merge(ddf,on=[\"CAMERA_ID_FROM\",\"CAMERA_ID_TO\"])  \n",
    "    if out:\n",
    "        sdf[ddf.columns].to_csv(out,index=False)\n",
    "    else:\n",
    "        return sdf[ddf.columns]"
   ]
  },
  {
   "cell_type": "code",
   "execution_count": 85,
   "metadata": {},
   "outputs": [],
   "source": [
    "samplecameras(\"cameras_3.csv\",\"distances.csv\",\"camdist_3.csv\")"
   ]
  },
  {
   "cell_type": "markdown",
   "metadata": {},
   "source": [
    "Run until here and we have flow estimates for 10 to 10:30am "
   ]
  },
  {
   "cell_type": "code",
   "execution_count": null,
   "metadata": {},
   "outputs": [],
   "source": [
    "measurementsdf.columns = [\"Detector\",\"Time\",\"qPKW\",\"vPKW\"]"
   ]
  },
  {
   "cell_type": "code",
   "execution_count": null,
   "metadata": {},
   "outputs": [],
   "source": [
    "measurementsdf"
   ]
  },
  {
   "cell_type": "code",
   "execution_count": null,
   "metadata": {},
   "outputs": [],
   "source": [
    "measurementsdf[\"Time\"] = measurementsdf[\"Time\"].astype(np.int64) // 10**9"
   ]
  },
  {
   "cell_type": "code",
   "execution_count": null,
   "metadata": {
    "collapsed": true
   },
   "outputs": [],
   "source": [
    "measurementsdf[\"Time\"] -= measurementsdf[\"Time\"].min()"
   ]
  },
  {
   "cell_type": "code",
   "execution_count": null,
   "metadata": {},
   "outputs": [],
   "source": [
    "%matplotlib inline\n",
    "measurementsdf[\"qPKW\"].plot.hist()"
   ]
  },
  {
   "cell_type": "code",
   "execution_count": null,
   "metadata": {},
   "outputs": [],
   "source": [
    "measurementsdf[\"time_bin\"] = (measurementsdf[\"Time\"]/1800).astype(int)\n",
    "groups_30min = measurementsdf.groupby([\"Detector\",\"time_bin\"])"
   ]
  },
  {
   "cell_type": "code",
   "execution_count": null,
   "metadata": {},
   "outputs": [],
   "source": [
    "measurementsdf[:9]"
   ]
  },
  {
   "cell_type": "code",
   "execution_count": null,
   "metadata": {},
   "outputs": [],
   "source": [
    "groups_30min_measurement = groups_30min.mean().reset_index()[[\"Detector\",\"time_bin\",\"qPKW\",\"vPKW\"]]"
   ]
  },
  {
   "cell_type": "code",
   "execution_count": null,
   "metadata": {},
   "outputs": [],
   "source": [
    "groups_30min_measurement.columns =[\"Detector\",\"Time\",\"qPKW\",\"vPKW\"]"
   ]
  },
  {
   "cell_type": "code",
   "execution_count": null,
   "metadata": {},
   "outputs": [],
   "source": [
    "groups_30min_measurement[[\"Detector\",\"qPKW\"]].groupby(\"Detector\").mean().reset_index().to_csv(\"london_100_cameras_30min_data.csv\",index=False)"
   ]
  },
  {
   "cell_type": "code",
   "execution_count": null,
   "metadata": {
    "collapsed": true
   },
   "outputs": [],
   "source": [
    "# count = 0\n",
    "# def splitIntoLanes(row):\n",
    "#     num_lanes = camerasdf.loc[camerasdf[\"CAMERA_ID\"]==row[\"Detector\"],\"NUM_LANES\"]\n",
    "#     rows = list()\n",
    "#     for i in range(0,num_lanes):\n",
    "#         rows.append({\"Detector\":str(int(row[0]))+\"_\"+str(i) , \"Time\":np.int64(row[1]), \"qPKW\" : (row[2]/int(num_lanes)) , \"vPKW\" : row[3]})\n",
    "#     return rows"
   ]
  },
  {
   "cell_type": "code",
   "execution_count": null,
   "metadata": {},
   "outputs": [],
   "source": [
    "# final_measurements = measurementsdf.apply(splitIntoLanes,axis=1)"
   ]
  },
  {
   "cell_type": "code",
   "execution_count": null,
   "metadata": {},
   "outputs": [],
   "source": [
    "# measurementsdf.iloc[129449]"
   ]
  },
  {
   "cell_type": "code",
   "execution_count": null,
   "metadata": {},
   "outputs": [],
   "source": [
    "measurementsdf.to_csv(\"london_measurements_20_cameras.csv\",sep=\";\",index=False)"
   ]
  },
  {
   "cell_type": "code",
   "execution_count": null,
   "metadata": {
    "collapsed": true
   },
   "outputs": [],
   "source": []
  }
 ],
 "metadata": {
  "anaconda-cloud": {},
  "kernelspec": {
   "display_name": "Python 3",
   "language": "python",
   "name": "python3"
  },
  "language_info": {
   "codemirror_mode": {
    "name": "ipython",
    "version": 3
   },
   "file_extension": ".py",
   "mimetype": "text/x-python",
   "name": "python",
   "nbconvert_exporter": "python",
   "pygments_lexer": "ipython3",
   "version": "3.6.0"
  }
 },
 "nbformat": 4,
 "nbformat_minor": 1
}
